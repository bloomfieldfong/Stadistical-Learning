{
  "nbformat": 4,
  "nbformat_minor": 0,
  "metadata": {
    "colab": {
      "name": "ProyectoSL.ipynb",
      "provenance": [],
      "collapsed_sections": [],
      "mount_file_id": "11dBGpie4cJ9wW9VSU2qMVsSHR3hk98bO",
      "authorship_tag": "ABX9TyPRWgZc6rQ/9tkNfCK87o7t",
      "include_colab_link": true
    },
    "kernelspec": {
      "name": "python3",
      "display_name": "Python 3"
    },
    "language_info": {
      "name": "python"
    }
  },
  "cells": [
    {
      "cell_type": "markdown",
      "metadata": {
        "id": "view-in-github",
        "colab_type": "text"
      },
      "source": [
        "<a href=\"https://colab.research.google.com/github/bloomfieldfong/Stadistical-Learning/blob/main/ProyectoSL.ipynb\" target=\"_parent\"><img src=\"https://colab.research.google.com/assets/colab-badge.svg\" alt=\"Open In Colab\"/></a>"
      ]
    },
    {
      "cell_type": "markdown",
      "source": [
        "# Proyecto Prediccion del Titanic\n",
        "Michelle Bloomfield\n",
        "Carné: 22000345\n",
        "\n"
      ],
      "metadata": {
        "id": "m09bsQTPbpos"
      }
    },
    {
      "cell_type": "markdown",
      "source": [
        "Import de librerias"
      ],
      "metadata": {
        "id": "pf-i3t9PcRsF"
      }
    },
    {
      "cell_type": "code",
      "execution_count": 3,
      "metadata": {
        "colab": {
          "base_uri": "https://localhost:8080/"
        },
        "id": "i5sYRt9B_wI0",
        "outputId": "7318a1b0-3321-4304-cdea-e60fa4e14d2a"
      },
      "outputs": [
        {
          "output_type": "stream",
          "name": "stdout",
          "text": [
            "WARNING:tensorflow:From /usr/local/lib/python3.7/dist-packages/tensorflow/python/compat/v2_compat.py:107: disable_resource_variables (from tensorflow.python.ops.variable_scope) is deprecated and will be removed in a future version.\n",
            "Instructions for updating:\n",
            "non-resource variables are not supported in the long term\n",
            "Drive already mounted at /content/drive; to attempt to forcibly remount, call drive.mount(\"/content/drive\", force_remount=True).\n"
          ]
        }
      ],
      "source": [
        "import pandas as pd\n",
        "import numpy as np\n",
        "import imageio as imio\n",
        "import seaborn as sns\n",
        "import matplotlib.pyplot as plt\n",
        "from sklearn import svm\n",
        "import tensorflow as tf\n",
        "from google.colab import drive\n",
        "import tensorboard\n",
        "%reload_ext tensorboard\n",
        "tensorboard.__version__\n",
        "if tf.__version__.startswith(\"2.\"):\n",
        "  import tensorflow.compat.v1 as tf\n",
        "  tf.compat.v1.disable_v2_behavior()\n",
        "  tf.compat.v1.disable_eager_execution()\n",
        "  drive.mount('/content/drive')\n",
        "\n",
        "from sklearn.model_selection import train_test_split\n",
        "from sklearn.tree import export_graphviz, DecisionTreeClassifier\n",
        "from sklearn.metrics import accuracy_score, f1_score, recall_score, precision_score"
      ]
    },
    {
      "cell_type": "markdown",
      "source": [
        "Import de data de "
      ],
      "metadata": {
        "id": "m3oTvvSvcT-J"
      }
    },
    {
      "cell_type": "code",
      "source": [
        "data = pd.read_csv('/content/drive/MyDrive/Proyecto Stadistical Learnign/data_titanic_proyecto.csv')"
      ],
      "metadata": {
        "id": "W3LEL83cA1MK"
      },
      "execution_count": 4,
      "outputs": []
    },
    {
      "cell_type": "markdown",
      "source": [
        "# **Analisis Exploratorio**"
      ],
      "metadata": {
        "id": "9UMAo2QVh0yQ"
      }
    },
    {
      "cell_type": "markdown",
      "source": [
        "Limpieza de datos nulos"
      ],
      "metadata": {
        "id": "omsqkR5xjm6X"
      }
    },
    {
      "cell_type": "code",
      "source": [
        "data.isna().sum()"
      ],
      "metadata": {
        "colab": {
          "base_uri": "https://localhost:8080/"
        },
        "id": "P18lQBjch-bV",
        "outputId": "41e9063b-53d2-486a-be5c-83880dffb031"
      },
      "execution_count": 4,
      "outputs": [
        {
          "output_type": "execute_result",
          "data": {
            "text/plain": [
              "PassengerId             0\n",
              "Name                    0\n",
              "Age                   177\n",
              "SibSp                   0\n",
              "Parch                   0\n",
              "Ticket                  0\n",
              "Fare                    0\n",
              "Cabin                 687\n",
              "Embarked                2\n",
              "passenger_class         0\n",
              "passenger_sex           0\n",
              "passenger_survived      0\n",
              "dtype: int64"
            ]
          },
          "metadata": {},
          "execution_count": 4
        }
      ]
    },
    {
      "cell_type": "markdown",
      "source": [
        "Podemos notas que el 77% de datos para la columna \"Cabin\"  estan en null por lo cual no se recomienda hacer alguna imputacion estadistica. Embarked y Age si se estara realizando transformaciones estadisticas para completar estos datos."
      ],
      "metadata": {
        "id": "eGmmF9KPiEht"
      }
    },
    {
      "cell_type": "code",
      "source": [
        "#Edad media de todos los pasajeros\n",
        "media_edad = data['Age'].median()\n",
        "print(media_edad)\n",
        "#Media de edad por la clase de pasajero y sexo,\n",
        "##Se tomo en cuenta estas dos variables por que se considera de que una persona mas joven probablemente no pueda comprar una clase mas alta\n",
        "##Tambien se tomo en cuenta el sexo de los pasajeros ya que se realizo varias agrupaciones y pude notar que si cambia el promedio de edad entre\n",
        "##mujeres y hombres por clase \n",
        "media_edad = data.groupby(['passenger_class', 'passenger_sex']).median()['Age']\n",
        "#Moda de si estan embarcados o no \n",
        "moda_cabin = data['Embarked'].mode()\n",
        "print(media_edad)\n",
        "print(moda_cabin[0])"
      ],
      "metadata": {
        "colab": {
          "base_uri": "https://localhost:8080/"
        },
        "id": "5lxLexTviELI",
        "outputId": "73835b75-db6e-43d4-b3cc-c742cf8ed9ee"
      },
      "execution_count": 5,
      "outputs": [
        {
          "output_type": "stream",
          "name": "stdout",
          "text": [
            "28.0\n",
            "passenger_class  passenger_sex\n",
            "Lower            F                21.5\n",
            "                 M                25.0\n",
            "Middle           F                28.0\n",
            "                 M                30.0\n",
            "Upper            F                35.0\n",
            "                 M                40.0\n",
            "Name: Age, dtype: float64\n",
            "S\n"
          ]
        }
      ]
    },
    {
      "cell_type": "markdown",
      "source": [
        "Reemplazo de Edad y Embarked en el dataset"
      ],
      "metadata": {
        "id": "DzeAJtHUkZZb"
      }
    },
    {
      "cell_type": "code",
      "source": [
        "data['Embarked'] = data['Embarked'].fillna(moda_cabin[0])\n",
        "data['Embarked'].isna().sum()"
      ],
      "metadata": {
        "colab": {
          "base_uri": "https://localhost:8080/"
        },
        "id": "z2SmqArMl20R",
        "outputId": "5c030445-741f-4181-ba05-a32571ca6449"
      },
      "execution_count": 6,
      "outputs": [
        {
          "output_type": "execute_result",
          "data": {
            "text/plain": [
              "0"
            ]
          },
          "metadata": {},
          "execution_count": 6
        }
      ]
    },
    {
      "cell_type": "code",
      "source": [
        "sex = ['F', 'M']\n",
        "pclass = ['Lower', 'Middle', 'Upper']\n",
        "for iclass in pclass:\n",
        "  for isex in sex:\n",
        "    condition = (data['passenger_class'] == iclass) & (data['passenger_sex'] == isex)\n",
        "    data['Age'][condition] = data['Age'][condition].fillna(media_edad[iclass][isex])\n",
        "\n",
        "data['Age'].isna().sum()"
      ],
      "metadata": {
        "colab": {
          "base_uri": "https://localhost:8080/"
        },
        "id": "Sj2D6kgtkYhi",
        "outputId": "632e6b40-6ef9-4a54-e44a-4e377d00b319"
      },
      "execution_count": 7,
      "outputs": [
        {
          "output_type": "stream",
          "name": "stderr",
          "text": [
            "/usr/local/lib/python3.7/dist-packages/ipykernel_launcher.py:6: SettingWithCopyWarning: \n",
            "A value is trying to be set on a copy of a slice from a DataFrame\n",
            "\n",
            "See the caveats in the documentation: https://pandas.pydata.org/pandas-docs/stable/user_guide/indexing.html#returning-a-view-versus-a-copy\n",
            "  \n"
          ]
        },
        {
          "output_type": "execute_result",
          "data": {
            "text/plain": [
              "0"
            ]
          },
          "metadata": {},
          "execution_count": 7
        }
      ]
    },
    {
      "cell_type": "markdown",
      "source": [
        "Transformación de Variables Categoricas"
      ],
      "metadata": {
        "id": "ZSV0HSY6keo8"
      }
    },
    {
      "cell_type": "code",
      "source": [
        "data.head()\n"
      ],
      "metadata": {
        "colab": {
          "base_uri": "https://localhost:8080/",
          "height": 302
        },
        "id": "j4PMsv0vkiXm",
        "outputId": "53d6d5c2-75b1-4b61-ed5d-30bc5b444329"
      },
      "execution_count": 8,
      "outputs": [
        {
          "output_type": "execute_result",
          "data": {
            "text/plain": [
              "   PassengerId                                               Name   Age  \\\n",
              "0            1                            Braund, Mr. Owen Harris  22.0   \n",
              "1            2  Cumings, Mrs. John Bradley (Florence Briggs Th...  38.0   \n",
              "2            3                             Heikkinen, Miss. Laina  26.0   \n",
              "3            4       Futrelle, Mrs. Jacques Heath (Lily May Peel)  35.0   \n",
              "4            5                           Allen, Mr. William Henry  35.0   \n",
              "\n",
              "   SibSp  Parch            Ticket     Fare Cabin Embarked passenger_class  \\\n",
              "0      1      0         A/5 21171   7.2500   NaN        S           Lower   \n",
              "1      1      0          PC 17599  71.2833   C85        C           Upper   \n",
              "2      0      0  STON/O2. 3101282   7.9250   NaN        S           Lower   \n",
              "3      1      0            113803  53.1000  C123        S           Upper   \n",
              "4      0      0            373450   8.0500   NaN        S           Lower   \n",
              "\n",
              "  passenger_sex passenger_survived  \n",
              "0             M                  N  \n",
              "1             F                  Y  \n",
              "2             F                  Y  \n",
              "3             F                  Y  \n",
              "4             M                  N  "
            ],
            "text/html": [
              "\n",
              "  <div id=\"df-da71d8ea-2b87-4481-9c56-7660f4e4a2a8\">\n",
              "    <div class=\"colab-df-container\">\n",
              "      <div>\n",
              "<style scoped>\n",
              "    .dataframe tbody tr th:only-of-type {\n",
              "        vertical-align: middle;\n",
              "    }\n",
              "\n",
              "    .dataframe tbody tr th {\n",
              "        vertical-align: top;\n",
              "    }\n",
              "\n",
              "    .dataframe thead th {\n",
              "        text-align: right;\n",
              "    }\n",
              "</style>\n",
              "<table border=\"1\" class=\"dataframe\">\n",
              "  <thead>\n",
              "    <tr style=\"text-align: right;\">\n",
              "      <th></th>\n",
              "      <th>PassengerId</th>\n",
              "      <th>Name</th>\n",
              "      <th>Age</th>\n",
              "      <th>SibSp</th>\n",
              "      <th>Parch</th>\n",
              "      <th>Ticket</th>\n",
              "      <th>Fare</th>\n",
              "      <th>Cabin</th>\n",
              "      <th>Embarked</th>\n",
              "      <th>passenger_class</th>\n",
              "      <th>passenger_sex</th>\n",
              "      <th>passenger_survived</th>\n",
              "    </tr>\n",
              "  </thead>\n",
              "  <tbody>\n",
              "    <tr>\n",
              "      <th>0</th>\n",
              "      <td>1</td>\n",
              "      <td>Braund, Mr. Owen Harris</td>\n",
              "      <td>22.0</td>\n",
              "      <td>1</td>\n",
              "      <td>0</td>\n",
              "      <td>A/5 21171</td>\n",
              "      <td>7.2500</td>\n",
              "      <td>NaN</td>\n",
              "      <td>S</td>\n",
              "      <td>Lower</td>\n",
              "      <td>M</td>\n",
              "      <td>N</td>\n",
              "    </tr>\n",
              "    <tr>\n",
              "      <th>1</th>\n",
              "      <td>2</td>\n",
              "      <td>Cumings, Mrs. John Bradley (Florence Briggs Th...</td>\n",
              "      <td>38.0</td>\n",
              "      <td>1</td>\n",
              "      <td>0</td>\n",
              "      <td>PC 17599</td>\n",
              "      <td>71.2833</td>\n",
              "      <td>C85</td>\n",
              "      <td>C</td>\n",
              "      <td>Upper</td>\n",
              "      <td>F</td>\n",
              "      <td>Y</td>\n",
              "    </tr>\n",
              "    <tr>\n",
              "      <th>2</th>\n",
              "      <td>3</td>\n",
              "      <td>Heikkinen, Miss. Laina</td>\n",
              "      <td>26.0</td>\n",
              "      <td>0</td>\n",
              "      <td>0</td>\n",
              "      <td>STON/O2. 3101282</td>\n",
              "      <td>7.9250</td>\n",
              "      <td>NaN</td>\n",
              "      <td>S</td>\n",
              "      <td>Lower</td>\n",
              "      <td>F</td>\n",
              "      <td>Y</td>\n",
              "    </tr>\n",
              "    <tr>\n",
              "      <th>3</th>\n",
              "      <td>4</td>\n",
              "      <td>Futrelle, Mrs. Jacques Heath (Lily May Peel)</td>\n",
              "      <td>35.0</td>\n",
              "      <td>1</td>\n",
              "      <td>0</td>\n",
              "      <td>113803</td>\n",
              "      <td>53.1000</td>\n",
              "      <td>C123</td>\n",
              "      <td>S</td>\n",
              "      <td>Upper</td>\n",
              "      <td>F</td>\n",
              "      <td>Y</td>\n",
              "    </tr>\n",
              "    <tr>\n",
              "      <th>4</th>\n",
              "      <td>5</td>\n",
              "      <td>Allen, Mr. William Henry</td>\n",
              "      <td>35.0</td>\n",
              "      <td>0</td>\n",
              "      <td>0</td>\n",
              "      <td>373450</td>\n",
              "      <td>8.0500</td>\n",
              "      <td>NaN</td>\n",
              "      <td>S</td>\n",
              "      <td>Lower</td>\n",
              "      <td>M</td>\n",
              "      <td>N</td>\n",
              "    </tr>\n",
              "  </tbody>\n",
              "</table>\n",
              "</div>\n",
              "      <button class=\"colab-df-convert\" onclick=\"convertToInteractive('df-da71d8ea-2b87-4481-9c56-7660f4e4a2a8')\"\n",
              "              title=\"Convert this dataframe to an interactive table.\"\n",
              "              style=\"display:none;\">\n",
              "        \n",
              "  <svg xmlns=\"http://www.w3.org/2000/svg\" height=\"24px\"viewBox=\"0 0 24 24\"\n",
              "       width=\"24px\">\n",
              "    <path d=\"M0 0h24v24H0V0z\" fill=\"none\"/>\n",
              "    <path d=\"M18.56 5.44l.94 2.06.94-2.06 2.06-.94-2.06-.94-.94-2.06-.94 2.06-2.06.94zm-11 1L8.5 8.5l.94-2.06 2.06-.94-2.06-.94L8.5 2.5l-.94 2.06-2.06.94zm10 10l.94 2.06.94-2.06 2.06-.94-2.06-.94-.94-2.06-.94 2.06-2.06.94z\"/><path d=\"M17.41 7.96l-1.37-1.37c-.4-.4-.92-.59-1.43-.59-.52 0-1.04.2-1.43.59L10.3 9.45l-7.72 7.72c-.78.78-.78 2.05 0 2.83L4 21.41c.39.39.9.59 1.41.59.51 0 1.02-.2 1.41-.59l7.78-7.78 2.81-2.81c.8-.78.8-2.07 0-2.86zM5.41 20L4 18.59l7.72-7.72 1.47 1.35L5.41 20z\"/>\n",
              "  </svg>\n",
              "      </button>\n",
              "      \n",
              "  <style>\n",
              "    .colab-df-container {\n",
              "      display:flex;\n",
              "      flex-wrap:wrap;\n",
              "      gap: 12px;\n",
              "    }\n",
              "\n",
              "    .colab-df-convert {\n",
              "      background-color: #E8F0FE;\n",
              "      border: none;\n",
              "      border-radius: 50%;\n",
              "      cursor: pointer;\n",
              "      display: none;\n",
              "      fill: #1967D2;\n",
              "      height: 32px;\n",
              "      padding: 0 0 0 0;\n",
              "      width: 32px;\n",
              "    }\n",
              "\n",
              "    .colab-df-convert:hover {\n",
              "      background-color: #E2EBFA;\n",
              "      box-shadow: 0px 1px 2px rgba(60, 64, 67, 0.3), 0px 1px 3px 1px rgba(60, 64, 67, 0.15);\n",
              "      fill: #174EA6;\n",
              "    }\n",
              "\n",
              "    [theme=dark] .colab-df-convert {\n",
              "      background-color: #3B4455;\n",
              "      fill: #D2E3FC;\n",
              "    }\n",
              "\n",
              "    [theme=dark] .colab-df-convert:hover {\n",
              "      background-color: #434B5C;\n",
              "      box-shadow: 0px 1px 3px 1px rgba(0, 0, 0, 0.15);\n",
              "      filter: drop-shadow(0px 1px 2px rgba(0, 0, 0, 0.3));\n",
              "      fill: #FFFFFF;\n",
              "    }\n",
              "  </style>\n",
              "\n",
              "      <script>\n",
              "        const buttonEl =\n",
              "          document.querySelector('#df-da71d8ea-2b87-4481-9c56-7660f4e4a2a8 button.colab-df-convert');\n",
              "        buttonEl.style.display =\n",
              "          google.colab.kernel.accessAllowed ? 'block' : 'none';\n",
              "\n",
              "        async function convertToInteractive(key) {\n",
              "          const element = document.querySelector('#df-da71d8ea-2b87-4481-9c56-7660f4e4a2a8');\n",
              "          const dataTable =\n",
              "            await google.colab.kernel.invokeFunction('convertToInteractive',\n",
              "                                                     [key], {});\n",
              "          if (!dataTable) return;\n",
              "\n",
              "          const docLinkHtml = 'Like what you see? Visit the ' +\n",
              "            '<a target=\"_blank\" href=https://colab.research.google.com/notebooks/data_table.ipynb>data table notebook</a>'\n",
              "            + ' to learn more about interactive tables.';\n",
              "          element.innerHTML = '';\n",
              "          dataTable['output_type'] = 'display_data';\n",
              "          await google.colab.output.renderOutput(dataTable, element);\n",
              "          const docLink = document.createElement('div');\n",
              "          docLink.innerHTML = docLinkHtml;\n",
              "          element.appendChild(docLink);\n",
              "        }\n",
              "      </script>\n",
              "    </div>\n",
              "  </div>\n",
              "  "
            ]
          },
          "metadata": {},
          "execution_count": 8
        }
      ]
    },
    {
      "cell_type": "code",
      "source": [
        "data[\"Embarked\"] = data[\"Embarked\"].replace({\"Q\" : 0, \"C\" : 1, \"S\": 2})\n",
        "data[\"passenger_class\"] = data[\"passenger_class\"].replace({\"Upper\" : 1, \"Middle\" : 2, \"Lower\" : 3}).astype('int32')\n",
        "data[\"passenger_sex\"] = data[\"passenger_sex\"].replace({\"M\" : 1, \"F\" : 0}).astype('int32')\n",
        "data[\"passenger_survived\"] = data[\"passenger_survived\"].replace({\"Y\" : 1, \"N\" : 0}).astype('int32')\n",
        "data = data.drop('Cabin', axis=1)"
      ],
      "metadata": {
        "id": "6A5V-aixkvic"
      },
      "execution_count": 8,
      "outputs": []
    },
    {
      "cell_type": "markdown",
      "source": [
        "Se realizo una transformacion a las variables: Embarked, passanger_call, passanger_sex, passanger_survived a variables numericas para poder "
      ],
      "metadata": {
        "id": "bcX_DklMneL-"
      }
    },
    {
      "cell_type": "code",
      "source": [
        "data.head()"
      ],
      "metadata": {
        "colab": {
          "base_uri": "https://localhost:8080/",
          "height": 302
        },
        "id": "WXGY8FflngQT",
        "outputId": "1fcb8014-691c-4841-cd54-1d3290497452"
      },
      "execution_count": 10,
      "outputs": [
        {
          "output_type": "execute_result",
          "data": {
            "text/plain": [
              "   PassengerId                                               Name   Age  \\\n",
              "0            1                            Braund, Mr. Owen Harris  22.0   \n",
              "1            2  Cumings, Mrs. John Bradley (Florence Briggs Th...  38.0   \n",
              "2            3                             Heikkinen, Miss. Laina  26.0   \n",
              "3            4       Futrelle, Mrs. Jacques Heath (Lily May Peel)  35.0   \n",
              "4            5                           Allen, Mr. William Henry  35.0   \n",
              "\n",
              "   SibSp  Parch            Ticket     Fare  Embarked  passenger_class  \\\n",
              "0      1      0         A/5 21171   7.2500         2                3   \n",
              "1      1      0          PC 17599  71.2833         1                1   \n",
              "2      0      0  STON/O2. 3101282   7.9250         2                3   \n",
              "3      1      0            113803  53.1000         2                1   \n",
              "4      0      0            373450   8.0500         2                3   \n",
              "\n",
              "   passenger_sex  passenger_survived  \n",
              "0              1                   0  \n",
              "1              0                   1  \n",
              "2              0                   1  \n",
              "3              0                   1  \n",
              "4              1                   0  "
            ],
            "text/html": [
              "\n",
              "  <div id=\"df-de3b29c5-2fd0-4efa-b2ea-9daaac2230ff\">\n",
              "    <div class=\"colab-df-container\">\n",
              "      <div>\n",
              "<style scoped>\n",
              "    .dataframe tbody tr th:only-of-type {\n",
              "        vertical-align: middle;\n",
              "    }\n",
              "\n",
              "    .dataframe tbody tr th {\n",
              "        vertical-align: top;\n",
              "    }\n",
              "\n",
              "    .dataframe thead th {\n",
              "        text-align: right;\n",
              "    }\n",
              "</style>\n",
              "<table border=\"1\" class=\"dataframe\">\n",
              "  <thead>\n",
              "    <tr style=\"text-align: right;\">\n",
              "      <th></th>\n",
              "      <th>PassengerId</th>\n",
              "      <th>Name</th>\n",
              "      <th>Age</th>\n",
              "      <th>SibSp</th>\n",
              "      <th>Parch</th>\n",
              "      <th>Ticket</th>\n",
              "      <th>Fare</th>\n",
              "      <th>Embarked</th>\n",
              "      <th>passenger_class</th>\n",
              "      <th>passenger_sex</th>\n",
              "      <th>passenger_survived</th>\n",
              "    </tr>\n",
              "  </thead>\n",
              "  <tbody>\n",
              "    <tr>\n",
              "      <th>0</th>\n",
              "      <td>1</td>\n",
              "      <td>Braund, Mr. Owen Harris</td>\n",
              "      <td>22.0</td>\n",
              "      <td>1</td>\n",
              "      <td>0</td>\n",
              "      <td>A/5 21171</td>\n",
              "      <td>7.2500</td>\n",
              "      <td>2</td>\n",
              "      <td>3</td>\n",
              "      <td>1</td>\n",
              "      <td>0</td>\n",
              "    </tr>\n",
              "    <tr>\n",
              "      <th>1</th>\n",
              "      <td>2</td>\n",
              "      <td>Cumings, Mrs. John Bradley (Florence Briggs Th...</td>\n",
              "      <td>38.0</td>\n",
              "      <td>1</td>\n",
              "      <td>0</td>\n",
              "      <td>PC 17599</td>\n",
              "      <td>71.2833</td>\n",
              "      <td>1</td>\n",
              "      <td>1</td>\n",
              "      <td>0</td>\n",
              "      <td>1</td>\n",
              "    </tr>\n",
              "    <tr>\n",
              "      <th>2</th>\n",
              "      <td>3</td>\n",
              "      <td>Heikkinen, Miss. Laina</td>\n",
              "      <td>26.0</td>\n",
              "      <td>0</td>\n",
              "      <td>0</td>\n",
              "      <td>STON/O2. 3101282</td>\n",
              "      <td>7.9250</td>\n",
              "      <td>2</td>\n",
              "      <td>3</td>\n",
              "      <td>0</td>\n",
              "      <td>1</td>\n",
              "    </tr>\n",
              "    <tr>\n",
              "      <th>3</th>\n",
              "      <td>4</td>\n",
              "      <td>Futrelle, Mrs. Jacques Heath (Lily May Peel)</td>\n",
              "      <td>35.0</td>\n",
              "      <td>1</td>\n",
              "      <td>0</td>\n",
              "      <td>113803</td>\n",
              "      <td>53.1000</td>\n",
              "      <td>2</td>\n",
              "      <td>1</td>\n",
              "      <td>0</td>\n",
              "      <td>1</td>\n",
              "    </tr>\n",
              "    <tr>\n",
              "      <th>4</th>\n",
              "      <td>5</td>\n",
              "      <td>Allen, Mr. William Henry</td>\n",
              "      <td>35.0</td>\n",
              "      <td>0</td>\n",
              "      <td>0</td>\n",
              "      <td>373450</td>\n",
              "      <td>8.0500</td>\n",
              "      <td>2</td>\n",
              "      <td>3</td>\n",
              "      <td>1</td>\n",
              "      <td>0</td>\n",
              "    </tr>\n",
              "  </tbody>\n",
              "</table>\n",
              "</div>\n",
              "      <button class=\"colab-df-convert\" onclick=\"convertToInteractive('df-de3b29c5-2fd0-4efa-b2ea-9daaac2230ff')\"\n",
              "              title=\"Convert this dataframe to an interactive table.\"\n",
              "              style=\"display:none;\">\n",
              "        \n",
              "  <svg xmlns=\"http://www.w3.org/2000/svg\" height=\"24px\"viewBox=\"0 0 24 24\"\n",
              "       width=\"24px\">\n",
              "    <path d=\"M0 0h24v24H0V0z\" fill=\"none\"/>\n",
              "    <path d=\"M18.56 5.44l.94 2.06.94-2.06 2.06-.94-2.06-.94-.94-2.06-.94 2.06-2.06.94zm-11 1L8.5 8.5l.94-2.06 2.06-.94-2.06-.94L8.5 2.5l-.94 2.06-2.06.94zm10 10l.94 2.06.94-2.06 2.06-.94-2.06-.94-.94-2.06-.94 2.06-2.06.94z\"/><path d=\"M17.41 7.96l-1.37-1.37c-.4-.4-.92-.59-1.43-.59-.52 0-1.04.2-1.43.59L10.3 9.45l-7.72 7.72c-.78.78-.78 2.05 0 2.83L4 21.41c.39.39.9.59 1.41.59.51 0 1.02-.2 1.41-.59l7.78-7.78 2.81-2.81c.8-.78.8-2.07 0-2.86zM5.41 20L4 18.59l7.72-7.72 1.47 1.35L5.41 20z\"/>\n",
              "  </svg>\n",
              "      </button>\n",
              "      \n",
              "  <style>\n",
              "    .colab-df-container {\n",
              "      display:flex;\n",
              "      flex-wrap:wrap;\n",
              "      gap: 12px;\n",
              "    }\n",
              "\n",
              "    .colab-df-convert {\n",
              "      background-color: #E8F0FE;\n",
              "      border: none;\n",
              "      border-radius: 50%;\n",
              "      cursor: pointer;\n",
              "      display: none;\n",
              "      fill: #1967D2;\n",
              "      height: 32px;\n",
              "      padding: 0 0 0 0;\n",
              "      width: 32px;\n",
              "    }\n",
              "\n",
              "    .colab-df-convert:hover {\n",
              "      background-color: #E2EBFA;\n",
              "      box-shadow: 0px 1px 2px rgba(60, 64, 67, 0.3), 0px 1px 3px 1px rgba(60, 64, 67, 0.15);\n",
              "      fill: #174EA6;\n",
              "    }\n",
              "\n",
              "    [theme=dark] .colab-df-convert {\n",
              "      background-color: #3B4455;\n",
              "      fill: #D2E3FC;\n",
              "    }\n",
              "\n",
              "    [theme=dark] .colab-df-convert:hover {\n",
              "      background-color: #434B5C;\n",
              "      box-shadow: 0px 1px 3px 1px rgba(0, 0, 0, 0.15);\n",
              "      filter: drop-shadow(0px 1px 2px rgba(0, 0, 0, 0.3));\n",
              "      fill: #FFFFFF;\n",
              "    }\n",
              "  </style>\n",
              "\n",
              "      <script>\n",
              "        const buttonEl =\n",
              "          document.querySelector('#df-de3b29c5-2fd0-4efa-b2ea-9daaac2230ff button.colab-df-convert');\n",
              "        buttonEl.style.display =\n",
              "          google.colab.kernel.accessAllowed ? 'block' : 'none';\n",
              "\n",
              "        async function convertToInteractive(key) {\n",
              "          const element = document.querySelector('#df-de3b29c5-2fd0-4efa-b2ea-9daaac2230ff');\n",
              "          const dataTable =\n",
              "            await google.colab.kernel.invokeFunction('convertToInteractive',\n",
              "                                                     [key], {});\n",
              "          if (!dataTable) return;\n",
              "\n",
              "          const docLinkHtml = 'Like what you see? Visit the ' +\n",
              "            '<a target=\"_blank\" href=https://colab.research.google.com/notebooks/data_table.ipynb>data table notebook</a>'\n",
              "            + ' to learn more about interactive tables.';\n",
              "          element.innerHTML = '';\n",
              "          dataTable['output_type'] = 'display_data';\n",
              "          await google.colab.output.renderOutput(dataTable, element);\n",
              "          const docLink = document.createElement('div');\n",
              "          docLink.innerHTML = docLinkHtml;\n",
              "          element.appendChild(docLink);\n",
              "        }\n",
              "      </script>\n",
              "    </div>\n",
              "  </div>\n",
              "  "
            ]
          },
          "metadata": {},
          "execution_count": 10
        }
      ]
    },
    {
      "cell_type": "code",
      "source": [
        "data.isna().sum()"
      ],
      "metadata": {
        "colab": {
          "base_uri": "https://localhost:8080/"
        },
        "id": "p0sq4kRkpvTf",
        "outputId": "4a3f0d61-c108-4c80-d5b5-37d6158524b6"
      },
      "execution_count": 11,
      "outputs": [
        {
          "output_type": "execute_result",
          "data": {
            "text/plain": [
              "PassengerId           0\n",
              "Name                  0\n",
              "Age                   0\n",
              "SibSp                 0\n",
              "Parch                 0\n",
              "Ticket                0\n",
              "Fare                  0\n",
              "Embarked              0\n",
              "passenger_class       0\n",
              "passenger_sex         0\n",
              "passenger_survived    0\n",
              "dtype: int64"
            ]
          },
          "metadata": {},
          "execution_count": 11
        }
      ]
    },
    {
      "cell_type": "markdown",
      "source": [
        "Se establecio un correlativo para cada una de las columnas de nuestro data frame\n",
        "\n",
        "\n",
        "\n",
        "*   PassangerID\n",
        "* Name\n",
        "*   Age\n",
        "* SibSP\n",
        "* Parch\n",
        "* Ticket\n",
        "* Fare\n",
        "* Cabin\n",
        "* Embarked\n",
        "* Passenger_class \t\n",
        "* Passenger_sex \t\n",
        "* Passenger_survived\n",
        "\n",
        "Passanger_survived sera nuestra variable y en este proyecto por lo cual se estara realiznaod un analisis de correlacion en base a esta variable.\n",
        "\n",
        "\n"
      ],
      "metadata": {
        "id": "BKM5eH8LbooR"
      }
    },
    {
      "cell_type": "code",
      "source": [
        "data.head()"
      ],
      "metadata": {
        "colab": {
          "base_uri": "https://localhost:8080/",
          "height": 302
        },
        "id": "cqwqzGG5fBEe",
        "outputId": "bb33e9f3-df14-4ed7-cb3f-db171156051e"
      },
      "execution_count": 12,
      "outputs": [
        {
          "output_type": "execute_result",
          "data": {
            "text/plain": [
              "   PassengerId                                               Name   Age  \\\n",
              "0            1                            Braund, Mr. Owen Harris  22.0   \n",
              "1            2  Cumings, Mrs. John Bradley (Florence Briggs Th...  38.0   \n",
              "2            3                             Heikkinen, Miss. Laina  26.0   \n",
              "3            4       Futrelle, Mrs. Jacques Heath (Lily May Peel)  35.0   \n",
              "4            5                           Allen, Mr. William Henry  35.0   \n",
              "\n",
              "   SibSp  Parch            Ticket     Fare  Embarked  passenger_class  \\\n",
              "0      1      0         A/5 21171   7.2500         2                3   \n",
              "1      1      0          PC 17599  71.2833         1                1   \n",
              "2      0      0  STON/O2. 3101282   7.9250         2                3   \n",
              "3      1      0            113803  53.1000         2                1   \n",
              "4      0      0            373450   8.0500         2                3   \n",
              "\n",
              "   passenger_sex  passenger_survived  \n",
              "0              1                   0  \n",
              "1              0                   1  \n",
              "2              0                   1  \n",
              "3              0                   1  \n",
              "4              1                   0  "
            ],
            "text/html": [
              "\n",
              "  <div id=\"df-c6f82686-6992-4dc7-be30-f4268557b11d\">\n",
              "    <div class=\"colab-df-container\">\n",
              "      <div>\n",
              "<style scoped>\n",
              "    .dataframe tbody tr th:only-of-type {\n",
              "        vertical-align: middle;\n",
              "    }\n",
              "\n",
              "    .dataframe tbody tr th {\n",
              "        vertical-align: top;\n",
              "    }\n",
              "\n",
              "    .dataframe thead th {\n",
              "        text-align: right;\n",
              "    }\n",
              "</style>\n",
              "<table border=\"1\" class=\"dataframe\">\n",
              "  <thead>\n",
              "    <tr style=\"text-align: right;\">\n",
              "      <th></th>\n",
              "      <th>PassengerId</th>\n",
              "      <th>Name</th>\n",
              "      <th>Age</th>\n",
              "      <th>SibSp</th>\n",
              "      <th>Parch</th>\n",
              "      <th>Ticket</th>\n",
              "      <th>Fare</th>\n",
              "      <th>Embarked</th>\n",
              "      <th>passenger_class</th>\n",
              "      <th>passenger_sex</th>\n",
              "      <th>passenger_survived</th>\n",
              "    </tr>\n",
              "  </thead>\n",
              "  <tbody>\n",
              "    <tr>\n",
              "      <th>0</th>\n",
              "      <td>1</td>\n",
              "      <td>Braund, Mr. Owen Harris</td>\n",
              "      <td>22.0</td>\n",
              "      <td>1</td>\n",
              "      <td>0</td>\n",
              "      <td>A/5 21171</td>\n",
              "      <td>7.2500</td>\n",
              "      <td>2</td>\n",
              "      <td>3</td>\n",
              "      <td>1</td>\n",
              "      <td>0</td>\n",
              "    </tr>\n",
              "    <tr>\n",
              "      <th>1</th>\n",
              "      <td>2</td>\n",
              "      <td>Cumings, Mrs. John Bradley (Florence Briggs Th...</td>\n",
              "      <td>38.0</td>\n",
              "      <td>1</td>\n",
              "      <td>0</td>\n",
              "      <td>PC 17599</td>\n",
              "      <td>71.2833</td>\n",
              "      <td>1</td>\n",
              "      <td>1</td>\n",
              "      <td>0</td>\n",
              "      <td>1</td>\n",
              "    </tr>\n",
              "    <tr>\n",
              "      <th>2</th>\n",
              "      <td>3</td>\n",
              "      <td>Heikkinen, Miss. Laina</td>\n",
              "      <td>26.0</td>\n",
              "      <td>0</td>\n",
              "      <td>0</td>\n",
              "      <td>STON/O2. 3101282</td>\n",
              "      <td>7.9250</td>\n",
              "      <td>2</td>\n",
              "      <td>3</td>\n",
              "      <td>0</td>\n",
              "      <td>1</td>\n",
              "    </tr>\n",
              "    <tr>\n",
              "      <th>3</th>\n",
              "      <td>4</td>\n",
              "      <td>Futrelle, Mrs. Jacques Heath (Lily May Peel)</td>\n",
              "      <td>35.0</td>\n",
              "      <td>1</td>\n",
              "      <td>0</td>\n",
              "      <td>113803</td>\n",
              "      <td>53.1000</td>\n",
              "      <td>2</td>\n",
              "      <td>1</td>\n",
              "      <td>0</td>\n",
              "      <td>1</td>\n",
              "    </tr>\n",
              "    <tr>\n",
              "      <th>4</th>\n",
              "      <td>5</td>\n",
              "      <td>Allen, Mr. William Henry</td>\n",
              "      <td>35.0</td>\n",
              "      <td>0</td>\n",
              "      <td>0</td>\n",
              "      <td>373450</td>\n",
              "      <td>8.0500</td>\n",
              "      <td>2</td>\n",
              "      <td>3</td>\n",
              "      <td>1</td>\n",
              "      <td>0</td>\n",
              "    </tr>\n",
              "  </tbody>\n",
              "</table>\n",
              "</div>\n",
              "      <button class=\"colab-df-convert\" onclick=\"convertToInteractive('df-c6f82686-6992-4dc7-be30-f4268557b11d')\"\n",
              "              title=\"Convert this dataframe to an interactive table.\"\n",
              "              style=\"display:none;\">\n",
              "        \n",
              "  <svg xmlns=\"http://www.w3.org/2000/svg\" height=\"24px\"viewBox=\"0 0 24 24\"\n",
              "       width=\"24px\">\n",
              "    <path d=\"M0 0h24v24H0V0z\" fill=\"none\"/>\n",
              "    <path d=\"M18.56 5.44l.94 2.06.94-2.06 2.06-.94-2.06-.94-.94-2.06-.94 2.06-2.06.94zm-11 1L8.5 8.5l.94-2.06 2.06-.94-2.06-.94L8.5 2.5l-.94 2.06-2.06.94zm10 10l.94 2.06.94-2.06 2.06-.94-2.06-.94-.94-2.06-.94 2.06-2.06.94z\"/><path d=\"M17.41 7.96l-1.37-1.37c-.4-.4-.92-.59-1.43-.59-.52 0-1.04.2-1.43.59L10.3 9.45l-7.72 7.72c-.78.78-.78 2.05 0 2.83L4 21.41c.39.39.9.59 1.41.59.51 0 1.02-.2 1.41-.59l7.78-7.78 2.81-2.81c.8-.78.8-2.07 0-2.86zM5.41 20L4 18.59l7.72-7.72 1.47 1.35L5.41 20z\"/>\n",
              "  </svg>\n",
              "      </button>\n",
              "      \n",
              "  <style>\n",
              "    .colab-df-container {\n",
              "      display:flex;\n",
              "      flex-wrap:wrap;\n",
              "      gap: 12px;\n",
              "    }\n",
              "\n",
              "    .colab-df-convert {\n",
              "      background-color: #E8F0FE;\n",
              "      border: none;\n",
              "      border-radius: 50%;\n",
              "      cursor: pointer;\n",
              "      display: none;\n",
              "      fill: #1967D2;\n",
              "      height: 32px;\n",
              "      padding: 0 0 0 0;\n",
              "      width: 32px;\n",
              "    }\n",
              "\n",
              "    .colab-df-convert:hover {\n",
              "      background-color: #E2EBFA;\n",
              "      box-shadow: 0px 1px 2px rgba(60, 64, 67, 0.3), 0px 1px 3px 1px rgba(60, 64, 67, 0.15);\n",
              "      fill: #174EA6;\n",
              "    }\n",
              "\n",
              "    [theme=dark] .colab-df-convert {\n",
              "      background-color: #3B4455;\n",
              "      fill: #D2E3FC;\n",
              "    }\n",
              "\n",
              "    [theme=dark] .colab-df-convert:hover {\n",
              "      background-color: #434B5C;\n",
              "      box-shadow: 0px 1px 3px 1px rgba(0, 0, 0, 0.15);\n",
              "      filter: drop-shadow(0px 1px 2px rgba(0, 0, 0, 0.3));\n",
              "      fill: #FFFFFF;\n",
              "    }\n",
              "  </style>\n",
              "\n",
              "      <script>\n",
              "        const buttonEl =\n",
              "          document.querySelector('#df-c6f82686-6992-4dc7-be30-f4268557b11d button.colab-df-convert');\n",
              "        buttonEl.style.display =\n",
              "          google.colab.kernel.accessAllowed ? 'block' : 'none';\n",
              "\n",
              "        async function convertToInteractive(key) {\n",
              "          const element = document.querySelector('#df-c6f82686-6992-4dc7-be30-f4268557b11d');\n",
              "          const dataTable =\n",
              "            await google.colab.kernel.invokeFunction('convertToInteractive',\n",
              "                                                     [key], {});\n",
              "          if (!dataTable) return;\n",
              "\n",
              "          const docLinkHtml = 'Like what you see? Visit the ' +\n",
              "            '<a target=\"_blank\" href=https://colab.research.google.com/notebooks/data_table.ipynb>data table notebook</a>'\n",
              "            + ' to learn more about interactive tables.';\n",
              "          element.innerHTML = '';\n",
              "          dataTable['output_type'] = 'display_data';\n",
              "          await google.colab.output.renderOutput(dataTable, element);\n",
              "          const docLink = document.createElement('div');\n",
              "          docLink.innerHTML = docLinkHtml;\n",
              "          element.appendChild(docLink);\n",
              "        }\n",
              "      </script>\n",
              "    </div>\n",
              "  </div>\n",
              "  "
            ]
          },
          "metadata": {},
          "execution_count": 12
        }
      ]
    },
    {
      "cell_type": "code",
      "source": [
        "data.describe(include= 'all')"
      ],
      "metadata": {
        "colab": {
          "base_uri": "https://localhost:8080/",
          "height": 455
        },
        "id": "T0Bj4lprhEU9",
        "outputId": "b6c1221b-e3c6-4cf3-84f1-a0d814853f7f"
      },
      "execution_count": 13,
      "outputs": [
        {
          "output_type": "execute_result",
          "data": {
            "text/plain": [
              "        PassengerId                     Name         Age       SibSp  \\\n",
              "count    891.000000                      891  891.000000  891.000000   \n",
              "unique          NaN                      891         NaN         NaN   \n",
              "top             NaN  Braund, Mr. Owen Harris         NaN         NaN   \n",
              "freq            NaN                        1         NaN         NaN   \n",
              "mean     446.000000                      NaN   29.112424    0.523008   \n",
              "std      257.353842                      NaN   13.304424    1.102743   \n",
              "min        1.000000                      NaN    0.420000    0.000000   \n",
              "25%      223.500000                      NaN   21.500000    0.000000   \n",
              "50%      446.000000                      NaN   26.000000    0.000000   \n",
              "75%      668.500000                      NaN   36.000000    1.000000   \n",
              "max      891.000000                      NaN   80.000000    8.000000   \n",
              "\n",
              "             Parch  Ticket        Fare    Embarked  passenger_class  \\\n",
              "count   891.000000     891  891.000000  891.000000       891.000000   \n",
              "unique         NaN     681         NaN         NaN              NaN   \n",
              "top            NaN  347082         NaN         NaN              NaN   \n",
              "freq           NaN       7         NaN         NaN              NaN   \n",
              "mean      0.381594     NaN   32.204208    1.638608         2.308642   \n",
              "std       0.806057     NaN   49.693429    0.635673         0.836071   \n",
              "min       0.000000     NaN    0.000000    0.000000         1.000000   \n",
              "25%       0.000000     NaN    7.910400    1.000000         2.000000   \n",
              "50%       0.000000     NaN   14.454200    2.000000         3.000000   \n",
              "75%       0.000000     NaN   31.000000    2.000000         3.000000   \n",
              "max       6.000000     NaN  512.329200    2.000000         3.000000   \n",
              "\n",
              "        passenger_sex  passenger_survived  \n",
              "count      891.000000          891.000000  \n",
              "unique            NaN                 NaN  \n",
              "top               NaN                 NaN  \n",
              "freq              NaN                 NaN  \n",
              "mean         0.647587            0.383838  \n",
              "std          0.477990            0.486592  \n",
              "min          0.000000            0.000000  \n",
              "25%          0.000000            0.000000  \n",
              "50%          1.000000            0.000000  \n",
              "75%          1.000000            1.000000  \n",
              "max          1.000000            1.000000  "
            ],
            "text/html": [
              "\n",
              "  <div id=\"df-c12816d8-caa1-4e20-87e8-6fa6e1306781\">\n",
              "    <div class=\"colab-df-container\">\n",
              "      <div>\n",
              "<style scoped>\n",
              "    .dataframe tbody tr th:only-of-type {\n",
              "        vertical-align: middle;\n",
              "    }\n",
              "\n",
              "    .dataframe tbody tr th {\n",
              "        vertical-align: top;\n",
              "    }\n",
              "\n",
              "    .dataframe thead th {\n",
              "        text-align: right;\n",
              "    }\n",
              "</style>\n",
              "<table border=\"1\" class=\"dataframe\">\n",
              "  <thead>\n",
              "    <tr style=\"text-align: right;\">\n",
              "      <th></th>\n",
              "      <th>PassengerId</th>\n",
              "      <th>Name</th>\n",
              "      <th>Age</th>\n",
              "      <th>SibSp</th>\n",
              "      <th>Parch</th>\n",
              "      <th>Ticket</th>\n",
              "      <th>Fare</th>\n",
              "      <th>Embarked</th>\n",
              "      <th>passenger_class</th>\n",
              "      <th>passenger_sex</th>\n",
              "      <th>passenger_survived</th>\n",
              "    </tr>\n",
              "  </thead>\n",
              "  <tbody>\n",
              "    <tr>\n",
              "      <th>count</th>\n",
              "      <td>891.000000</td>\n",
              "      <td>891</td>\n",
              "      <td>891.000000</td>\n",
              "      <td>891.000000</td>\n",
              "      <td>891.000000</td>\n",
              "      <td>891</td>\n",
              "      <td>891.000000</td>\n",
              "      <td>891.000000</td>\n",
              "      <td>891.000000</td>\n",
              "      <td>891.000000</td>\n",
              "      <td>891.000000</td>\n",
              "    </tr>\n",
              "    <tr>\n",
              "      <th>unique</th>\n",
              "      <td>NaN</td>\n",
              "      <td>891</td>\n",
              "      <td>NaN</td>\n",
              "      <td>NaN</td>\n",
              "      <td>NaN</td>\n",
              "      <td>681</td>\n",
              "      <td>NaN</td>\n",
              "      <td>NaN</td>\n",
              "      <td>NaN</td>\n",
              "      <td>NaN</td>\n",
              "      <td>NaN</td>\n",
              "    </tr>\n",
              "    <tr>\n",
              "      <th>top</th>\n",
              "      <td>NaN</td>\n",
              "      <td>Braund, Mr. Owen Harris</td>\n",
              "      <td>NaN</td>\n",
              "      <td>NaN</td>\n",
              "      <td>NaN</td>\n",
              "      <td>347082</td>\n",
              "      <td>NaN</td>\n",
              "      <td>NaN</td>\n",
              "      <td>NaN</td>\n",
              "      <td>NaN</td>\n",
              "      <td>NaN</td>\n",
              "    </tr>\n",
              "    <tr>\n",
              "      <th>freq</th>\n",
              "      <td>NaN</td>\n",
              "      <td>1</td>\n",
              "      <td>NaN</td>\n",
              "      <td>NaN</td>\n",
              "      <td>NaN</td>\n",
              "      <td>7</td>\n",
              "      <td>NaN</td>\n",
              "      <td>NaN</td>\n",
              "      <td>NaN</td>\n",
              "      <td>NaN</td>\n",
              "      <td>NaN</td>\n",
              "    </tr>\n",
              "    <tr>\n",
              "      <th>mean</th>\n",
              "      <td>446.000000</td>\n",
              "      <td>NaN</td>\n",
              "      <td>29.112424</td>\n",
              "      <td>0.523008</td>\n",
              "      <td>0.381594</td>\n",
              "      <td>NaN</td>\n",
              "      <td>32.204208</td>\n",
              "      <td>1.638608</td>\n",
              "      <td>2.308642</td>\n",
              "      <td>0.647587</td>\n",
              "      <td>0.383838</td>\n",
              "    </tr>\n",
              "    <tr>\n",
              "      <th>std</th>\n",
              "      <td>257.353842</td>\n",
              "      <td>NaN</td>\n",
              "      <td>13.304424</td>\n",
              "      <td>1.102743</td>\n",
              "      <td>0.806057</td>\n",
              "      <td>NaN</td>\n",
              "      <td>49.693429</td>\n",
              "      <td>0.635673</td>\n",
              "      <td>0.836071</td>\n",
              "      <td>0.477990</td>\n",
              "      <td>0.486592</td>\n",
              "    </tr>\n",
              "    <tr>\n",
              "      <th>min</th>\n",
              "      <td>1.000000</td>\n",
              "      <td>NaN</td>\n",
              "      <td>0.420000</td>\n",
              "      <td>0.000000</td>\n",
              "      <td>0.000000</td>\n",
              "      <td>NaN</td>\n",
              "      <td>0.000000</td>\n",
              "      <td>0.000000</td>\n",
              "      <td>1.000000</td>\n",
              "      <td>0.000000</td>\n",
              "      <td>0.000000</td>\n",
              "    </tr>\n",
              "    <tr>\n",
              "      <th>25%</th>\n",
              "      <td>223.500000</td>\n",
              "      <td>NaN</td>\n",
              "      <td>21.500000</td>\n",
              "      <td>0.000000</td>\n",
              "      <td>0.000000</td>\n",
              "      <td>NaN</td>\n",
              "      <td>7.910400</td>\n",
              "      <td>1.000000</td>\n",
              "      <td>2.000000</td>\n",
              "      <td>0.000000</td>\n",
              "      <td>0.000000</td>\n",
              "    </tr>\n",
              "    <tr>\n",
              "      <th>50%</th>\n",
              "      <td>446.000000</td>\n",
              "      <td>NaN</td>\n",
              "      <td>26.000000</td>\n",
              "      <td>0.000000</td>\n",
              "      <td>0.000000</td>\n",
              "      <td>NaN</td>\n",
              "      <td>14.454200</td>\n",
              "      <td>2.000000</td>\n",
              "      <td>3.000000</td>\n",
              "      <td>1.000000</td>\n",
              "      <td>0.000000</td>\n",
              "    </tr>\n",
              "    <tr>\n",
              "      <th>75%</th>\n",
              "      <td>668.500000</td>\n",
              "      <td>NaN</td>\n",
              "      <td>36.000000</td>\n",
              "      <td>1.000000</td>\n",
              "      <td>0.000000</td>\n",
              "      <td>NaN</td>\n",
              "      <td>31.000000</td>\n",
              "      <td>2.000000</td>\n",
              "      <td>3.000000</td>\n",
              "      <td>1.000000</td>\n",
              "      <td>1.000000</td>\n",
              "    </tr>\n",
              "    <tr>\n",
              "      <th>max</th>\n",
              "      <td>891.000000</td>\n",
              "      <td>NaN</td>\n",
              "      <td>80.000000</td>\n",
              "      <td>8.000000</td>\n",
              "      <td>6.000000</td>\n",
              "      <td>NaN</td>\n",
              "      <td>512.329200</td>\n",
              "      <td>2.000000</td>\n",
              "      <td>3.000000</td>\n",
              "      <td>1.000000</td>\n",
              "      <td>1.000000</td>\n",
              "    </tr>\n",
              "  </tbody>\n",
              "</table>\n",
              "</div>\n",
              "      <button class=\"colab-df-convert\" onclick=\"convertToInteractive('df-c12816d8-caa1-4e20-87e8-6fa6e1306781')\"\n",
              "              title=\"Convert this dataframe to an interactive table.\"\n",
              "              style=\"display:none;\">\n",
              "        \n",
              "  <svg xmlns=\"http://www.w3.org/2000/svg\" height=\"24px\"viewBox=\"0 0 24 24\"\n",
              "       width=\"24px\">\n",
              "    <path d=\"M0 0h24v24H0V0z\" fill=\"none\"/>\n",
              "    <path d=\"M18.56 5.44l.94 2.06.94-2.06 2.06-.94-2.06-.94-.94-2.06-.94 2.06-2.06.94zm-11 1L8.5 8.5l.94-2.06 2.06-.94-2.06-.94L8.5 2.5l-.94 2.06-2.06.94zm10 10l.94 2.06.94-2.06 2.06-.94-2.06-.94-.94-2.06-.94 2.06-2.06.94z\"/><path d=\"M17.41 7.96l-1.37-1.37c-.4-.4-.92-.59-1.43-.59-.52 0-1.04.2-1.43.59L10.3 9.45l-7.72 7.72c-.78.78-.78 2.05 0 2.83L4 21.41c.39.39.9.59 1.41.59.51 0 1.02-.2 1.41-.59l7.78-7.78 2.81-2.81c.8-.78.8-2.07 0-2.86zM5.41 20L4 18.59l7.72-7.72 1.47 1.35L5.41 20z\"/>\n",
              "  </svg>\n",
              "      </button>\n",
              "      \n",
              "  <style>\n",
              "    .colab-df-container {\n",
              "      display:flex;\n",
              "      flex-wrap:wrap;\n",
              "      gap: 12px;\n",
              "    }\n",
              "\n",
              "    .colab-df-convert {\n",
              "      background-color: #E8F0FE;\n",
              "      border: none;\n",
              "      border-radius: 50%;\n",
              "      cursor: pointer;\n",
              "      display: none;\n",
              "      fill: #1967D2;\n",
              "      height: 32px;\n",
              "      padding: 0 0 0 0;\n",
              "      width: 32px;\n",
              "    }\n",
              "\n",
              "    .colab-df-convert:hover {\n",
              "      background-color: #E2EBFA;\n",
              "      box-shadow: 0px 1px 2px rgba(60, 64, 67, 0.3), 0px 1px 3px 1px rgba(60, 64, 67, 0.15);\n",
              "      fill: #174EA6;\n",
              "    }\n",
              "\n",
              "    [theme=dark] .colab-df-convert {\n",
              "      background-color: #3B4455;\n",
              "      fill: #D2E3FC;\n",
              "    }\n",
              "\n",
              "    [theme=dark] .colab-df-convert:hover {\n",
              "      background-color: #434B5C;\n",
              "      box-shadow: 0px 1px 3px 1px rgba(0, 0, 0, 0.15);\n",
              "      filter: drop-shadow(0px 1px 2px rgba(0, 0, 0, 0.3));\n",
              "      fill: #FFFFFF;\n",
              "    }\n",
              "  </style>\n",
              "\n",
              "      <script>\n",
              "        const buttonEl =\n",
              "          document.querySelector('#df-c12816d8-caa1-4e20-87e8-6fa6e1306781 button.colab-df-convert');\n",
              "        buttonEl.style.display =\n",
              "          google.colab.kernel.accessAllowed ? 'block' : 'none';\n",
              "\n",
              "        async function convertToInteractive(key) {\n",
              "          const element = document.querySelector('#df-c12816d8-caa1-4e20-87e8-6fa6e1306781');\n",
              "          const dataTable =\n",
              "            await google.colab.kernel.invokeFunction('convertToInteractive',\n",
              "                                                     [key], {});\n",
              "          if (!dataTable) return;\n",
              "\n",
              "          const docLinkHtml = 'Like what you see? Visit the ' +\n",
              "            '<a target=\"_blank\" href=https://colab.research.google.com/notebooks/data_table.ipynb>data table notebook</a>'\n",
              "            + ' to learn more about interactive tables.';\n",
              "          element.innerHTML = '';\n",
              "          dataTable['output_type'] = 'display_data';\n",
              "          await google.colab.output.renderOutput(dataTable, element);\n",
              "          const docLink = document.createElement('div');\n",
              "          docLink.innerHTML = docLinkHtml;\n",
              "          element.appendChild(docLink);\n",
              "        }\n",
              "      </script>\n",
              "    </div>\n",
              "  </div>\n",
              "  "
            ]
          },
          "metadata": {},
          "execution_count": 13
        }
      ]
    },
    {
      "cell_type": "code",
      "source": [
        "correlation_table = data.corr(method='pearson')\n",
        "plt.figure(figsize=(10, 8))\n",
        "sns.heatmap(correlation_table, annot=True)\n",
        "plt.show()"
      ],
      "metadata": {
        "colab": {
          "base_uri": "https://localhost:8080/",
          "height": 577
        },
        "id": "-CgNKjkEfowV",
        "outputId": "6d060d24-8ac5-440c-c49f-eb2ec4141a41"
      },
      "execution_count": 8,
      "outputs": [
        {
          "output_type": "display_data",
          "data": {
            "text/plain": [
              "<Figure size 720x576 with 2 Axes>"
            ],
            "image/png": "[encoded data removed]"
          },
          "metadata": {
            "needs_background": "light"
          }
        }
      ]
    },
    {
      "cell_type": "markdown",
      "source": [
        "Separacion de data de entremaiento, prueba y validación."
      ],
      "metadata": {
        "id": "vb45XRk2JEcj"
      }
    },
    {
      "cell_type": "code",
      "source": [
        "##Separacion de la data en 80% y 20%   \n",
        "##Datos de entranimiento y de prueba\n",
        "train, test = train_test_split(data, test_size=0.2, random_state=42)\n",
        "##Porcion pequeña de datos para validacion\n",
        "train_validation, validation = train_test_split(test, test_size=0.8, random_state=42)\n",
        "\n",
        "print(train.shape)\n",
        "print(test.shape)\n",
        "print(validation.shape)"
      ],
      "metadata": {
        "colab": {
          "base_uri": "https://localhost:8080/"
        },
        "id": "k52en5GnkCe4",
        "outputId": "d21bf0e8-9330-4ed7-d573-c6e83370d856"
      },
      "execution_count": 9,
      "outputs": [
        {
          "output_type": "stream",
          "name": "stdout",
          "text": [
            "(712, 11)\n",
            "(179, 11)\n",
            "(144, 11)\n"
          ]
        }
      ]
    },
    {
      "cell_type": "code",
      "source": [
        "sns.set_theme()\n",
        "age_plot_data = pd.Series(data['Age'], name=\"Age\")\n",
        "age_plot = sns.distplot(age_plot_data)"
      ],
      "metadata": {
        "colab": {
          "base_uri": "https://localhost:8080/",
          "height": 340
        },
        "id": "IvjcBHUnx6P_",
        "outputId": "245160eb-3c95-4664-fa72-4a47913fed60"
      },
      "execution_count": 10,
      "outputs": [
        {
          "output_type": "stream",
          "name": "stderr",
          "text": [
            "/usr/local/lib/python3.7/dist-packages/seaborn/distributions.py:2619: FutureWarning: `distplot` is a deprecated function and will be removed in a future version. Please adapt your code to use either `displot` (a figure-level function with similar flexibility) or `histplot` (an axes-level function for histograms).\n",
            "  warnings.warn(msg, FutureWarning)\n"
          ]
        },
        {
          "output_type": "display_data",
          "data": {
            "text/plain": [
              "<Figure size 432x288 with 1 Axes>"
            ],
            "image/png": "[encoded data removed]"
          },
          "metadata": {}
        }
      ]
    },
    {
      "cell_type": "code",
      "source": [
        "sns.set_theme()\n",
        "ax = sns.catplot(x=\"passenger_class\", hue=\"passenger_sex\", col=\"passenger_survived\",data=data, kind=\"count\", height=5, aspect=.7)\n",
        "ax.set_xticklabels(['Upper', 'Middle', 'Lower'])\n",
        "plt.legend(['Women', 'Men'])"
      ],
      "metadata": {
        "colab": {
          "base_uri": "https://localhost:8080/",
          "height": 383
        },
        "id": "y4R5b5iP0bkD",
        "outputId": "62d23210-8d8a-43ee-bf81-78c76dc8f1d8"
      },
      "execution_count": null,
      "outputs": [
        {
          "output_type": "execute_result",
          "data": {
            "text/plain": [
              "<matplotlib.legend.Legend at 0x7faa2b0639d0>"
            ]
          },
          "metadata": {},
          "execution_count": 157
        },
        {
          "output_type": "display_data",
          "data": {
            "text/plain": [
              "<Figure size 602.3x360 with 2 Axes>"
            ],
            "image/png": "[encoded data removed]"
          },
          "metadata": {}
        }
      ]
    },
    {
      "cell_type": "code",
      "source": [
        "SibSp_plot = sns.countplot(x=data['SibSp'], data=data, hue='passenger_survived')\n",
        "SibSp_plot.set_title('# de hermanos/esposos se tenian abordo')\n",
        "plt.legend(['Not Survived', 'Survived'])"
      ],
      "metadata": {
        "colab": {
          "base_uri": "https://localhost:8080/",
          "height": 319
        },
        "id": "NFYj-RcjAX9j",
        "outputId": "45150f99-62e1-4fa0-f738-f2da42b8dd1a"
      },
      "execution_count": null,
      "outputs": [
        {
          "output_type": "execute_result",
          "data": {
            "text/plain": [
              "<matplotlib.legend.Legend at 0x7faa2ad90690>"
            ]
          },
          "metadata": {},
          "execution_count": 173
        },
        {
          "output_type": "display_data",
          "data": {
            "text/plain": [
              "<Figure size 432x288 with 1 Axes>"
            ],
            "image/png": "[encoded data removed]"
          },
          "metadata": {}
        }
      ]
    },
    {
      "cell_type": "code",
      "source": [
        "SibSp_plot = sns.countplot(x=data['Parch'], data=data, hue='passenger_survived')\n",
        "SibSp_plot.set_title('# de papas/hijos se tenian abordo')\n",
        "plt.legend(['Not Survived', 'Survived'])"
      ],
      "metadata": {
        "colab": {
          "base_uri": "https://localhost:8080/",
          "height": 319
        },
        "id": "zlZkdoFeAnje",
        "outputId": "4b53e706-f865-437f-cdc2-b8f3c22277a3"
      },
      "execution_count": null,
      "outputs": [
        {
          "output_type": "execute_result",
          "data": {
            "text/plain": [
              "<matplotlib.legend.Legend at 0x7faa2f148450>"
            ]
          },
          "metadata": {},
          "execution_count": 172
        },
        {
          "output_type": "display_data",
          "data": {
            "text/plain": [
              "<Figure size 432x288 with 1 Axes>"
            ],
            "image/png": "[encoded data removed]"
          },
          "metadata": {}
        }
      ]
    },
    {
      "cell_type": "markdown",
      "source": [
        "Conclusiones del analisis exploratorio: \n",
        "\n",
        "1.   Hubo mas mortalidad de hombres que mujeres.\n",
        "2.   La major cantidad de muertos son hombres de la clase \"Lower\".\n",
        "3.   Mayor mortalidad con la clase baja que la clase alta.\n",
        "4.   La mortalidad mas baja es de las mujeres en clase alta.\n",
        "5.   La moratalidad mas alta de los pasajeros que iban solos sin hijos/padres o hermanos/esposos.\n",
        "\n"
      ],
      "metadata": {
        "id": "CnxQZFQM-vBe"
      }
    },
    {
      "cell_type": "markdown",
      "source": [
        "# **Modelos de Predicción**"
      ],
      "metadata": {
        "id": "GEFECx9gC1wP"
      }
    },
    {
      "cell_type": "markdown",
      "source": [
        "### **Modelo Árbol de decisión (Sklearn)**"
      ],
      "metadata": {
        "id": "DWhlSbGyC84m"
      }
    },
    {
      "cell_type": "code",
      "source": [
        "def arbol_decision(x,y):\n",
        "  decision_tree = DecisionTreeClassifier()\n",
        "  decision_tree.fit(x, y)\n",
        "  return decision_tree"
      ],
      "metadata": {
        "id": "ZdtyMNtlC1T3"
      },
      "execution_count": 130,
      "outputs": []
    },
    {
      "cell_type": "markdown",
      "source": [
        "### **Modelo Support Vector Machine (Sklearn)**"
      ],
      "metadata": {
        "id": "ly_7E-QyGaIY"
      }
    },
    {
      "cell_type": "code",
      "source": [
        "def support_vector_machine(x,y, kernel='linear'):\n",
        "    supporvectormachine = svm.SVC(kernel=kernel)\n",
        "    supporvectormachine.fit(x,y)\n",
        "    return supporvectormachine"
      ],
      "metadata": {
        "id": "wsAQjpMkfjxW"
      },
      "execution_count": 157,
      "outputs": []
    },
    {
      "cell_type": "markdown",
      "source": [
        "### **Modelo Naive Bayes**"
      ],
      "metadata": {
        "id": "B0Lb8X7GjCuG"
      }
    },
    {
      "cell_type": "code",
      "source": [
        "def naive_bayes(x,y):\n",
        "  pass\n",
        "\n",
        "by_class = data.groupby('passenger_survived')\n",
        "by_class"
      ],
      "metadata": {
        "colab": {
          "base_uri": "https://localhost:8080/"
        },
        "id": "hOHYtAiXjCSJ",
        "outputId": "10c2e829-6bf1-4e00-cfd1-4e43b82dddbe"
      },
      "execution_count": 172,
      "outputs": [
        {
          "output_type": "execute_result",
          "data": {
            "text/plain": [
              "<pandas.core.groupby.generic.DataFrameGroupBy object at 0x7f954a5dda10>"
            ]
          },
          "metadata": {},
          "execution_count": 172
        }
      ]
    },
    {
      "cell_type": "markdown",
      "source": [
        "### **Modelo Regresión Logistica Binaria**"
      ],
      "metadata": {
        "id": "OnaNiM0fjFhX"
      }
    },
    {
      "cell_type": "code",
      "source": [
        "def regresion_logistica(x,y,epochs, lr, imprimir_cada):\n",
        "  #placeholder de x \n",
        "  placeholder_x = tf.placeholder(tf.float64, [len(x), x.shape[1]], \"x\")\n",
        "  #placeholder de y \n",
        "  placeholder_y = tf.placeholder(tf.float64, [len(y), 1], \"y\")\n",
        "  #Inicio de sesion\n",
        "  with tf.Session() as session:\n",
        "    ## variable independiente\n",
        "    n_independent_vars = placeholder_x.shape[1] + 1\n",
        "    ## bias \n",
        "    bias_feature = tf.ones([x.shape[0], 1], tf.float64)\n",
        "    ## concatenar al placeholder de x el bias de cada uno \n",
        "    placeholder_x = tf.concat([placeholder_x, bias_feature], axis=1)\n",
        "    ## pesos iniciales, nos da +1  del placeholder de x\n",
        "    initial_peso = tf.zeros([n_independent_vars, 1], tf.float64)\n",
        "    #asignacion de peso\n",
        "    peso = tf.Variable(name=\"weight\", initial_value=initial_peso)\n",
        "    #Calculo de error\n",
        "    error_op = tf.reduce_mean(tf.nn.sigmoid_cross_entropy_with_logits(logits=tf.matmul(placeholder_x, peso),labels=placeholder_y))\n",
        "    #Calculo de gradientes\n",
        "    gradients = tf.gradients(error_op, peso)\n",
        "    #Reajuste de gradiente\n",
        "    adjustment = tf.scalar_mul(-lr, gradients[0])\n",
        "    # Correr la sesion\n",
        "    session.run(tf.global_variables_initializer())\n",
        "    for epoch in range(1, epochs + 1):\n",
        "      feed = { placeholder_x: placeholder_x, placeholder_y: placeholder_y }\n",
        "      out = session.run([peso, error_op], feed)\n",
        "      error = out[1]\n",
        "      weights = out[0]\n",
        "\n",
        "xs = train[['passenger_sex','Age']]\n",
        "ys = train['passenger_survived'].to_numpy()\n",
        "\n",
        "regresion_logistica(xs,ys,100, 0.01, 10)"
      ],
      "metadata": {
        "colab": {
          "base_uri": "https://localhost:8080/",
          "height": 387
        },
        "id": "5R9-idKijQT-",
        "outputId": "8eddf504-f410-4e0b-81be-5a19b656fc1c"
      },
      "execution_count": 45,
      "outputs": [
        {
          "output_type": "error",
          "ename": "TypeError",
          "evalue": "ignored",
          "traceback": [
            "\u001b[0;31m---------------------------------------------------------------------------\u001b[0m",
            "\u001b[0;31mTypeError\u001b[0m                                 Traceback (most recent call last)",
            "\u001b[0;32m<ipython-input-45-d0fc8ee2067b>\u001b[0m in \u001b[0;36m<module>\u001b[0;34m()\u001b[0m\n\u001b[1;32m     33\u001b[0m \u001b[0mys\u001b[0m \u001b[0;34m=\u001b[0m \u001b[0mtrain\u001b[0m\u001b[0;34m[\u001b[0m\u001b[0;34m'passenger_survived'\u001b[0m\u001b[0;34m]\u001b[0m\u001b[0;34m.\u001b[0m\u001b[0mto_numpy\u001b[0m\u001b[0;34m(\u001b[0m\u001b[0;34m)\u001b[0m\u001b[0;34m\u001b[0m\u001b[0;34m\u001b[0m\u001b[0m\n\u001b[1;32m     34\u001b[0m \u001b[0;34m\u001b[0m\u001b[0m\n\u001b[0;32m---> 35\u001b[0;31m \u001b[0mregresion_logistica\u001b[0m\u001b[0;34m(\u001b[0m\u001b[0mxs\u001b[0m\u001b[0;34m,\u001b[0m\u001b[0mys\u001b[0m\u001b[0;34m,\u001b[0m\u001b[0;36m100\u001b[0m\u001b[0;34m,\u001b[0m \u001b[0;36m0.01\u001b[0m\u001b[0;34m,\u001b[0m \u001b[0;36m10\u001b[0m\u001b[0;34m)\u001b[0m\u001b[0;34m\u001b[0m\u001b[0;34m\u001b[0m\u001b[0m\n\u001b[0m",
            "\u001b[0;32m<ipython-input-45-d0fc8ee2067b>\u001b[0m in \u001b[0;36mregresion_logistica\u001b[0;34m(x, y, epochs, lr, imprimir_cada)\u001b[0m\n\u001b[1;32m     26\u001b[0m     \u001b[0;32mfor\u001b[0m \u001b[0mepoch\u001b[0m \u001b[0;32min\u001b[0m \u001b[0mrange\u001b[0m\u001b[0;34m(\u001b[0m\u001b[0;36m1\u001b[0m\u001b[0;34m,\u001b[0m \u001b[0mepochs\u001b[0m \u001b[0;34m+\u001b[0m \u001b[0;36m1\u001b[0m\u001b[0;34m)\u001b[0m\u001b[0;34m:\u001b[0m\u001b[0;34m\u001b[0m\u001b[0;34m\u001b[0m\u001b[0m\n\u001b[1;32m     27\u001b[0m       \u001b[0mfeed\u001b[0m \u001b[0;34m=\u001b[0m \u001b[0;34m{\u001b[0m \u001b[0mplaceholder_x\u001b[0m\u001b[0;34m:\u001b[0m \u001b[0mplaceholder_x\u001b[0m\u001b[0;34m,\u001b[0m \u001b[0mplaceholder_y\u001b[0m\u001b[0;34m:\u001b[0m \u001b[0mplaceholder_y\u001b[0m \u001b[0;34m}\u001b[0m\u001b[0;34m\u001b[0m\u001b[0;34m\u001b[0m\u001b[0m\n\u001b[0;32m---> 28\u001b[0;31m       \u001b[0mout\u001b[0m \u001b[0;34m=\u001b[0m \u001b[0msession\u001b[0m\u001b[0;34m.\u001b[0m\u001b[0mrun\u001b[0m\u001b[0;34m(\u001b[0m\u001b[0;34m[\u001b[0m\u001b[0mpeso\u001b[0m\u001b[0;34m,\u001b[0m \u001b[0merror_op\u001b[0m\u001b[0;34m]\u001b[0m\u001b[0;34m,\u001b[0m \u001b[0mfeed\u001b[0m\u001b[0;34m)\u001b[0m\u001b[0;34m\u001b[0m\u001b[0;34m\u001b[0m\u001b[0m\n\u001b[0m\u001b[1;32m     29\u001b[0m       \u001b[0merror\u001b[0m \u001b[0;34m=\u001b[0m \u001b[0mout\u001b[0m\u001b[0;34m[\u001b[0m\u001b[0;36m1\u001b[0m\u001b[0;34m]\u001b[0m\u001b[0;34m\u001b[0m\u001b[0;34m\u001b[0m\u001b[0m\n\u001b[1;32m     30\u001b[0m       \u001b[0mweights\u001b[0m \u001b[0;34m=\u001b[0m \u001b[0mout\u001b[0m\u001b[0;34m[\u001b[0m\u001b[0;36m0\u001b[0m\u001b[0;34m]\u001b[0m\u001b[0;34m\u001b[0m\u001b[0;34m\u001b[0m\u001b[0m\n",
            "\u001b[0;32m/usr/local/lib/python3.7/dist-packages/tensorflow/python/client/session.py\u001b[0m in \u001b[0;36mrun\u001b[0;34m(self, fetches, feed_dict, options, run_metadata)\u001b[0m\n\u001b[1;32m    966\u001b[0m     \u001b[0;32mtry\u001b[0m\u001b[0;34m:\u001b[0m\u001b[0;34m\u001b[0m\u001b[0;34m\u001b[0m\u001b[0m\n\u001b[1;32m    967\u001b[0m       result = self._run(None, fetches, feed_dict, options_ptr,\n\u001b[0;32m--> 968\u001b[0;31m                          run_metadata_ptr)\n\u001b[0m\u001b[1;32m    969\u001b[0m       \u001b[0;32mif\u001b[0m \u001b[0mrun_metadata\u001b[0m\u001b[0;34m:\u001b[0m\u001b[0;34m\u001b[0m\u001b[0;34m\u001b[0m\u001b[0m\n\u001b[1;32m    970\u001b[0m         \u001b[0mproto_data\u001b[0m \u001b[0;34m=\u001b[0m \u001b[0mtf_session\u001b[0m\u001b[0;34m.\u001b[0m\u001b[0mTF_GetBuffer\u001b[0m\u001b[0;34m(\u001b[0m\u001b[0mrun_metadata_ptr\u001b[0m\u001b[0;34m)\u001b[0m\u001b[0;34m\u001b[0m\u001b[0;34m\u001b[0m\u001b[0m\n",
            "\u001b[0;32m/usr/local/lib/python3.7/dist-packages/tensorflow/python/client/session.py\u001b[0m in \u001b[0;36m_run\u001b[0;34m(self, handle, fetches, feed_dict, options, run_metadata)\u001b[0m\n\u001b[1;32m   1137\u001b[0m           \u001b[0;32mif\u001b[0m \u001b[0misinstance\u001b[0m\u001b[0;34m(\u001b[0m\u001b[0msubfeed_val\u001b[0m\u001b[0;34m,\u001b[0m \u001b[0mops\u001b[0m\u001b[0;34m.\u001b[0m\u001b[0mTensor\u001b[0m\u001b[0;34m)\u001b[0m\u001b[0;34m:\u001b[0m\u001b[0;34m\u001b[0m\u001b[0;34m\u001b[0m\u001b[0m\n\u001b[1;32m   1138\u001b[0m             raise TypeError(\n\u001b[0;32m-> 1139\u001b[0;31m                 \u001b[0;34m'The value of a feed cannot be a tf.Tensor object. Acceptable '\u001b[0m\u001b[0;34m\u001b[0m\u001b[0;34m\u001b[0m\u001b[0m\n\u001b[0m\u001b[1;32m   1140\u001b[0m                 \u001b[0;34m'feed values include Python scalars, strings, lists, numpy '\u001b[0m\u001b[0;34m\u001b[0m\u001b[0;34m\u001b[0m\u001b[0m\n\u001b[1;32m   1141\u001b[0m                 \u001b[0;34m'ndarrays, or TensorHandles. For reference, the tensor object '\u001b[0m\u001b[0;34m\u001b[0m\u001b[0;34m\u001b[0m\u001b[0m\n",
            "\u001b[0;31mTypeError\u001b[0m: The value of a feed cannot be a tf.Tensor object. Acceptable feed values include Python scalars, strings, lists, numpy ndarrays, or TensorHandles. For reference, the tensor object was Tensor(\"concat_29:0\", shape=(712, 3), dtype=float64) which was passed to the argument `feed_dict` with key Tensor(\"concat_29:0\", shape=(712, 3), dtype=float64)."
          ]
        }
      ]
    },
    {
      "cell_type": "markdown",
      "source": [
        "# ***Fase de entrenamiento***"
      ],
      "metadata": {
        "id": "b_UnRBZOjQlB"
      }
    },
    {
      "cell_type": "markdown",
      "source": [
        "Funcion que nos da el calculo del accuracy,error, precisión, recall, f1-score"
      ],
      "metadata": {
        "id": "hnsdGau9z6wl"
      }
    },
    {
      "cell_type": "code",
      "source": [
        "## calcular accuracy,error, precisión, recall, f1-score\n",
        "def score(y_real, y_predictivo):\n",
        "  metrics = pd.DataFrame()\n",
        "  error = 0\n",
        "\n",
        "  for i in range(len(y_real)):\n",
        "    if y_real[i] != y_predictivo[i]:\n",
        "      error += 1\n",
        "\n",
        "  metrics['Accuracy']  = [accuracy_score(y_real, y_predictivo)]\n",
        "  metrics['Error'] = [error / len(y_real)]\n",
        "  metrics['Precisión'] = [precision_score(y_real, y_predictivo)]\n",
        "  metrics['Recall'] = [recall_score(y_real, y_predictivo)]\n",
        "  metrics['F1-Score'] = [f1_score(y_real, y_predictivo)]\n",
        "\n",
        "  return metrics"
      ],
      "metadata": {
        "id": "VU2U03aFp6lk"
      },
      "execution_count": 66,
      "outputs": []
    },
    {
      "cell_type": "markdown",
      "source": [
        "# **Entrenamiento para Modelo Árbol de Decision**\n"
      ],
      "metadata": {
        "id": "fvFZl79fyx-x"
      }
    },
    {
      "cell_type": "code",
      "source": [
        "def train_arbol_decision(x,y):\n",
        "  tree_model = arbol_decision(x, y)\n",
        "  y_train = tree_model.predict(x)\n",
        "  metrics = score(y,y_train)\n",
        "  return metrics\n"
      ],
      "metadata": {
        "id": "1-WPLhwgtFNy"
      },
      "execution_count": 135,
      "outputs": []
    },
    {
      "cell_type": "markdown",
      "source": [
        "\n",
        "Variables X -> Sexo y Edad"
      ],
      "metadata": {
        "id": "6JONOE9RzYWj"
      }
    },
    {
      "cell_type": "code",
      "source": [
        "x_arbol = train[['passenger_sex','Age']]\n",
        "y_arbol = train['passenger_survived'].to_numpy()\n",
        "\n",
        "x_arbol_validacion = validation[['passenger_sex','Age']]\n",
        "y_arbol_validacion = validation['passenger_survived'].to_numpy()\n",
        "\n",
        "print(\"Datos de Entrenamiento\")\n",
        "print(train_arbol_decision(x_arbol, y_arbol))\n",
        "print(\"Datos de Validación\")\n",
        "print(train_arbol_decision(x_arbol_validacion, y_arbol_validacion))\n"
      ],
      "metadata": {
        "colab": {
          "base_uri": "https://localhost:8080/"
        },
        "id": "2LHxIbmXzYdw",
        "outputId": "8c64a707-cb20-4bd5-8c41-134c3f2e4150"
      },
      "execution_count": 145,
      "outputs": [
        {
          "output_type": "stream",
          "name": "stdout",
          "text": [
            "Datos de Entrenamiento\n",
            "   Accuracy     Error  Precisión    Recall  F1-Score\n",
            "0  0.825843  0.174157   0.797521  0.720149  0.756863\n",
            "Datos de Validación\n",
            "   Accuracy     Error  Precisión    Recall  F1-Score\n",
            "0  0.861111  0.138889    0.97561  0.677966       0.8\n"
          ]
        }
      ]
    },
    {
      "cell_type": "markdown",
      "source": [
        "\n",
        "Variables X -> Embarked, Sexo, hermanos/esposos y Edad"
      ],
      "metadata": {
        "id": "dBAuuWGtzAxr"
      }
    },
    {
      "cell_type": "code",
      "source": [
        "x_arbol = train[['Embarked', 'passenger_sex', 'SibSp','Age']]\n",
        "y_arbol = train['passenger_survived'].to_numpy()\n",
        "\n",
        "x_arbol_validacion = validation[['Embarked', 'passenger_sex','SibSp', 'Age']]\n",
        "y_arbol_validacion = validation['passenger_survived'].to_numpy()\n",
        "\n",
        "print(\"Datos de Entrenamiento\")\n",
        "print(train_arbol_decision(x_arbol, y_arbol))\n",
        "print(\"Datos de Validación\")\n",
        "print(train_arbol_decision(x_arbol_validacion, y_arbol_validacion))\n"
      ],
      "metadata": {
        "colab": {
          "base_uri": "https://localhost:8080/"
        },
        "id": "1Wlfv3o6zA4o",
        "outputId": "55277808-3ece-47d8-d78e-ca707a706113"
      },
      "execution_count": 146,
      "outputs": [
        {
          "output_type": "stream",
          "name": "stdout",
          "text": [
            "Datos de Entrenamiento\n",
            "   Accuracy     Error  Precisión    Recall  F1-Score\n",
            "0  0.891854  0.108146   0.899582  0.802239  0.848126\n",
            "Datos de Validación\n",
            "   Accuracy     Error  Precisión    Recall  F1-Score\n",
            "0  0.958333  0.041667        1.0  0.898305  0.946429\n"
          ]
        }
      ]
    },
    {
      "cell_type": "markdown",
      "source": [
        "\n",
        "Variables X -> Embarked, Sexo y Edad"
      ],
      "metadata": {
        "id": "zt29-1j3zBqy"
      }
    },
    {
      "cell_type": "code",
      "source": [
        "x_arbol = train[['Embarked', 'passenger_sex', 'Age']]\n",
        "y_arbol = train['passenger_survived'].to_numpy()\n",
        "\n",
        "x_arbol_validacion = validation[['Embarked', 'passenger_sex', 'Age']]\n",
        "y_arbol_validacion = validation['passenger_survived'].to_numpy()\n",
        "\n",
        "print(\"Datos de Entrenamiento\")\n",
        "print(train_arbol_decision(x_arbol, y_arbol))\n",
        "print(\"Datos de Validación\")\n",
        "print(train_arbol_decision(x_arbol_validacion, y_arbol_validacion))\n"
      ],
      "metadata": {
        "colab": {
          "base_uri": "https://localhost:8080/"
        },
        "id": "Wq7P6psZyKly",
        "outputId": "613043ec-cfff-42b6-d022-bf95330c72a1"
      },
      "execution_count": 147,
      "outputs": [
        {
          "output_type": "stream",
          "name": "stdout",
          "text": [
            "Datos de Entrenamiento\n",
            "   Accuracy     Error  Precisión    Recall  F1-Score\n",
            "0  0.852528  0.147472   0.855895  0.731343  0.788732\n",
            "Datos de Validación\n",
            "   Accuracy     Error  Precisión    Recall  F1-Score\n",
            "0  0.916667  0.083333   0.960784  0.830508  0.890909\n"
          ]
        }
      ]
    },
    {
      "cell_type": "markdown",
      "source": [
        "\n",
        "Variables X -> Embarked, Sexo, hermanos/esposos, hijos/papas y Edad"
      ],
      "metadata": {
        "id": "u-zh6fvU0URe"
      }
    },
    {
      "cell_type": "code",
      "source": [
        "x_arbol = train[['Embarked', 'passenger_sex', 'Parch','SibSp','Age']]\n",
        "y_arbol = train['passenger_survived'].to_numpy()\n",
        "\n",
        "x_arbol_validacion = validation[['Embarked', 'passenger_sex','SibSp', 'Age']]\n",
        "y_arbol_validacion = validation['passenger_survived'].to_numpy()\n",
        "\n",
        "print(\"Datos de Entrenamiento\")\n",
        "print(train_arbol_decision(x_arbol, y_arbol))\n",
        "print(\"Datos de Validación\")\n",
        "print(train_arbol_decision(x_arbol_validacion, y_arbol_validacion))\n"
      ],
      "metadata": {
        "colab": {
          "base_uri": "https://localhost:8080/"
        },
        "id": "ucZm-24AlSj3",
        "outputId": "c773ba5f-e979-47c6-c003-5af58b2ecd55"
      },
      "execution_count": 148,
      "outputs": [
        {
          "output_type": "stream",
          "name": "stdout",
          "text": [
            "Datos de Entrenamiento\n",
            "   Accuracy     Error  Precisión   Recall  F1-Score\n",
            "0  0.917135  0.082865   0.940928  0.83209  0.883168\n",
            "Datos de Validación\n",
            "   Accuracy     Error  Precisión    Recall  F1-Score\n",
            "0  0.958333  0.041667        1.0  0.898305  0.946429\n"
          ]
        }
      ]
    },
    {
      "cell_type": "markdown",
      "source": [
        "# **Entrenamiento para Support Vector Machine**\n"
      ],
      "metadata": {
        "id": "LpSjfiIU0jeW"
      }
    },
    {
      "cell_type": "code",
      "source": [
        "def train_support_vector_machine(x,y):\n",
        "  svm_model = support_vector_machine(x, y)\n",
        "  y_train = svm_model.predict(x)\n",
        "  metrics = score(y,y_train)\n",
        "  return metrics"
      ],
      "metadata": {
        "id": "DirROpUljyDl"
      },
      "execution_count": 149,
      "outputs": []
    },
    {
      "cell_type": "markdown",
      "source": [
        "Variables X -> Sexo y Edad"
      ],
      "metadata": {
        "id": "VWWarR9d02nH"
      }
    },
    {
      "cell_type": "code",
      "source": [
        "x_suppor_vector_machine = train[['passenger_sex','Age']]\n",
        "y_suppor_vector_machine = train['passenger_survived'].to_numpy()\n",
        "\n",
        "x_suppor_vector_machine_validacion = validation[['passenger_sex','Age']]\n",
        "y_suppor_vector_machine_validacion = validation['passenger_survived'].to_numpy()\n",
        "\n",
        "print(\"Datos de Entrenamiento\")\n",
        "print(train_support_vector_machine(x_suppor_vector_machine, y_suppor_vector_machine))\n",
        "print(\"Datos de Validación\")\n",
        "print(train_support_vector_machine(x_suppor_vector_machine_validacion, y_suppor_vector_machine_validacion))\n"
      ],
      "metadata": {
        "colab": {
          "base_uri": "https://localhost:8080/"
        },
        "id": "9ecxI6CB02r9",
        "outputId": "4647407a-1efd-495d-ad1d-d9d286f1b364"
      },
      "execution_count": 158,
      "outputs": [
        {
          "output_type": "stream",
          "name": "stdout",
          "text": [
            "Datos de Entrenamiento\n",
            "   Accuracy     Error  Precisión    Recall  F1-Score\n",
            "0  0.787921  0.212079   0.738776  0.675373  0.705653\n",
            "Datos de Validación\n",
            "   Accuracy     Error  Precisión    Recall  F1-Score\n",
            "0  0.743056  0.256944   0.703704  0.644068  0.672566\n"
          ]
        }
      ]
    },
    {
      "cell_type": "markdown",
      "source": [
        "\n",
        "Variables X -> Embarked, Sexo, hermanos/esposos y Edad"
      ],
      "metadata": {
        "id": "LloJBxQ01k71"
      }
    },
    {
      "cell_type": "code",
      "source": [
        "x_suppor_vector_machine = train[['Embarked', 'passenger_sex', 'SibSp','Age']]\n",
        "y_suppor_vector_machine = train['passenger_survived'].to_numpy()\n",
        "\n",
        "x_suppor_vector_machine_validacion = validation[['Embarked', 'passenger_sex', 'SibSp','Age']]\n",
        "y_suppor_vector_machine_validacion = validation['passenger_survived'].to_numpy()\n",
        "\n",
        "print(\"Datos de Entrenamiento\")\n",
        "print(train_support_vector_machine(x_suppor_vector_machine, y_suppor_vector_machine))\n",
        "print(\"Datos de Validación\")\n",
        "print(train_support_vector_machine(x_suppor_vector_machine_validacion, y_suppor_vector_machine_validacion))"
      ],
      "metadata": {
        "colab": {
          "base_uri": "https://localhost:8080/"
        },
        "id": "d7lXX-Qb1lDM",
        "outputId": "982bc0ab-2400-4354-df58-72ffd2716b37"
      },
      "execution_count": 159,
      "outputs": [
        {
          "output_type": "stream",
          "name": "stdout",
          "text": [
            "Datos de Entrenamiento\n",
            "   Accuracy     Error  Precisión    Recall  F1-Score\n",
            "0  0.787921  0.212079   0.738776  0.675373  0.705653\n",
            "Datos de Validación\n",
            "   Accuracy     Error  Precisión    Recall  F1-Score\n",
            "0  0.743056  0.256944   0.703704  0.644068  0.672566\n"
          ]
        }
      ]
    },
    {
      "cell_type": "markdown",
      "source": [
        "Variables X -> Embarked, Sexo, y Edad"
      ],
      "metadata": {
        "id": "oJmWUVXF1xmX"
      }
    },
    {
      "cell_type": "code",
      "source": [
        "x_suppor_vector_machine = train[['Embarked', 'passenger_sex', 'Age']]\n",
        "y_suppor_vector_machine = train['passenger_survived'].to_numpy()\n",
        "\n",
        "x_suppor_vector_machine_validacion = validation[['Embarked', 'passenger_sex', 'Age']]\n",
        "y_suppor_vector_machine_validacion = validation['passenger_survived'].to_numpy()\n",
        "\n",
        "print(\"Datos de Entrenamiento\")\n",
        "print(train_support_vector_machine(x_suppor_vector_machine, y_suppor_vector_machine))\n",
        "print(\"Datos de Validación\")\n",
        "print(train_support_vector_machine(x_suppor_vector_machine_validacion, y_suppor_vector_machine_validacion))"
      ],
      "metadata": {
        "colab": {
          "base_uri": "https://localhost:8080/"
        },
        "id": "I4BsHIWB1xsG",
        "outputId": "8019bf52-29b9-427f-94ce-4042d2d03390"
      },
      "execution_count": 161,
      "outputs": [
        {
          "output_type": "stream",
          "name": "stdout",
          "text": [
            "Datos de Entrenamiento\n",
            "   Accuracy     Error  Precisión    Recall  F1-Score\n",
            "0  0.787921  0.212079   0.738776  0.675373  0.705653\n",
            "Datos de Validación\n",
            "   Accuracy     Error  Precisión    Recall  F1-Score\n",
            "0  0.743056  0.256944   0.703704  0.644068  0.672566\n"
          ]
        }
      ]
    },
    {
      "cell_type": "markdown",
      "source": [
        "Variables X -> Embarked, Sexo, hermanos/esposos, papas/hijos, Fare, passanger_class y Edad"
      ],
      "metadata": {
        "id": "KFXbaFGN1-wZ"
      }
    },
    {
      "cell_type": "code",
      "source": [
        "x_suppor_vector_machine = train[['Embarked', 'passenger_sex', 'SibSp','Age','Parch', 'Fare', 'passenger_class']]\n",
        "y_suppor_vector_machine = train['passenger_survived'].to_numpy()\n",
        "\n",
        "x_suppor_vector_machine_validacion = validation[['Embarked', 'passenger_sex', 'SibSp','Age','Parch', 'Fare', 'passenger_class']]\n",
        "y_suppor_vector_machine_validacion = validation['passenger_survived'].to_numpy()\n",
        "\n",
        "print(\"Datos de Entrenamiento\")\n",
        "print(train_support_vector_machine(x_suppor_vector_machine, y_suppor_vector_machine))\n",
        "print(\"Datos de Validación\")\n",
        "print(train_support_vector_machine(x_suppor_vector_machine_validacion, y_suppor_vector_machine_validacion))"
      ],
      "metadata": {
        "colab": {
          "base_uri": "https://localhost:8080/"
        },
        "id": "viLsMhnQ1-1G",
        "outputId": "9cd4eaae-ef42-4dae-ce28-a4314ab425d6"
      },
      "execution_count": 166,
      "outputs": [
        {
          "output_type": "stream",
          "name": "stdout",
          "text": [
            "Datos de Entrenamiento\n",
            "   Accuracy     Error  Precisión    Recall  F1-Score\n",
            "0  0.787921  0.212079   0.738776  0.675373  0.705653\n",
            "Datos de Validación\n",
            "   Accuracy     Error  Precisión   Recall  F1-Score\n",
            "0  0.854167  0.145833   0.839286  0.79661  0.817391\n"
          ]
        }
      ]
    }
  ]
}