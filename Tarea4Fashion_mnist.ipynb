{
  "cells": [
    {
      "cell_type": "markdown",
      "metadata": {
        "id": "view-in-github",
        "colab_type": "text"
      },
      "source": [
        "<a href=\"https://colab.research.google.com/github/bloomfieldfong/Stadistical-Learning/blob/main/Tarea4Fashion_mnist.ipynb\" target=\"_parent\"><img src=\"https://colab.research.google.com/assets/colab-badge.svg\" alt=\"Open In Colab\"/></a>"
      ]
    },
    {
      "cell_type": "code",
      "execution_count": 222,
      "metadata": {
        "id": "oZtiAyB143GP",
        "colab": {
          "base_uri": "https://localhost:8080/"
        },
        "outputId": "c10dbaa7-652c-40cc-8614-b348ea4557ae"
      },
      "outputs": [
        {
          "output_type": "stream",
          "name": "stdout",
          "text": [
            "Enabled compatitility to tf1.x\n"
          ]
        }
      ],
      "source": [
        "import tensorflow as tf\n",
        "from tensorflow import keras\n",
        "import numpy as np\n",
        "import matplotlib.pyplot as plt\n",
        "\n",
        "if tf.__version__.startswith(\"2.\"):\n",
        "  import tensorflow.compat.v1 as tf\n",
        "  tf.compat.v1.disable_v2_behavior()\n",
        "  tf.compat.v1.disable_eager_execution()\n",
        "  print(\"Enabled compatitility to tf1.x\")"
      ]
    },
    {
      "cell_type": "markdown",
      "metadata": {
        "id": "p7XNEw8t43GT"
      },
      "source": [
        "## Cargamos la data \n",
        "\n",
        "El dataset Fashion-MNIST cotiene 60,00 imagenes para el set de datos de entrenamiento y un set de datos de prueba de 10,000."
      ]
    },
    {
      "cell_type": "code",
      "execution_count": 7,
      "metadata": {
        "id": "-qGoL97z43GV"
      },
      "outputs": [],
      "source": [
        "fashion_mnist = keras.datasets.fashion_mnist"
      ]
    },
    {
      "cell_type": "code",
      "execution_count": 8,
      "metadata": {
        "id": "A3FpPE3m43GW"
      },
      "outputs": [],
      "source": [
        "(train_images, train_labels), (test_images, test_labels) = fashion_mnist.load_data()"
      ]
    },
    {
      "cell_type": "markdown",
      "metadata": {
        "id": "QbzLTHU143GW"
      },
      "source": [
        "## Imagenes\n",
        "Las imagenes son Numpy Arrays de 28x28, los pixeles estan entre los valores de 0 a 255"
      ]
    },
    {
      "cell_type": "code",
      "execution_count": 47,
      "metadata": {
        "id": "Zeeq4OVp43GX",
        "outputId": "961a4084-81ed-45df-c363-1853b5a356f5",
        "colab": {
          "base_uri": "https://localhost:8080/",
          "height": 283
        }
      },
      "outputs": [
        {
          "output_type": "execute_result",
          "data": {
            "text/plain": [
              "<matplotlib.colorbar.Colorbar at 0x7fd232820c90>"
            ]
          },
          "metadata": {},
          "execution_count": 47
        },
        {
          "output_type": "display_data",
          "data": {
            "text/plain": [
              "<Figure size 432x288 with 2 Axes>"
            ],
            "image/png": "[encoded data removed]"
          },
          "metadata": {
            "needs_background": "light"
          }
        }
      ],
      "source": [
        "plt.imshow(train_images[10], cmap = 'gray')\n",
        "plt.colorbar()"
      ]
    },
    {
      "cell_type": "markdown",
      "metadata": {
        "id": "Im3rO_jJ43GY"
      },
      "source": [
        "## Labels"
      ]
    },
    {
      "cell_type": "code",
      "execution_count": 48,
      "metadata": {
        "id": "v9bylYUN43GY",
        "outputId": "48345315-efcf-4a8f-e467-13a422f05da1",
        "colab": {
          "base_uri": "https://localhost:8080/"
        }
      },
      "outputs": [
        {
          "output_type": "execute_result",
          "data": {
            "text/plain": [
              "array([0, 1, 2, 3, 4, 5, 6, 7, 8, 9], dtype=uint8)"
            ]
          },
          "metadata": {},
          "execution_count": 48
        }
      ],
      "source": [
        "np.unique(train_labels)"
      ]
    },
    {
      "cell_type": "markdown",
      "metadata": {
        "id": "akPCG-ZC43GZ"
      },
      "source": [
        "| Label | Class       |\n",
        "|-------|-------------|\n",
        "| 0     | T-shirt/top |\n",
        "| 1     | Trouser     |\n",
        "| 2     | Pullover    |\n",
        "| 3     | Dress       |\n",
        "| 4     | Coat        |\n",
        "| 5     | Sandal      |\n",
        "| 6     | Shirt       |\n",
        "| 7     | Sneaker     |\n",
        "| 8     | Bag         |\n",
        "| 9     | Ankle boot  |"
      ]
    },
    {
      "cell_type": "code",
      "execution_count": 49,
      "metadata": {
        "id": "kYzh0AEF43Gb",
        "outputId": "d6cd4b8a-5adb-436e-e4bb-65b2ba76291e",
        "colab": {
          "base_uri": "https://localhost:8080/",
          "height": 589
        }
      },
      "outputs": [
        {
          "output_type": "display_data",
          "data": {
            "text/plain": [
              "<Figure size 720x720 with 25 Axes>"
            ],
            "image/png": "[encoded data removed]"
          },
          "metadata": {}
        }
      ],
      "source": [
        "plt.figure(figsize=(10,10))\n",
        "for i in range(25):\n",
        "    plt.subplot(5,5,i+1)\n",
        "    plt.xticks([])\n",
        "    plt.yticks([])\n",
        "    plt.grid(False)\n",
        "    plt.imshow(train_images[i], cmap='gray')\n",
        "    plt.xlabel(train_labels[i])\n",
        "plt.show()"
      ]
    },
    {
      "cell_type": "markdown",
      "metadata": {
        "id": "nipyEnos43Gc"
      },
      "source": [
        "# Tarea\n",
        "\n",
        "Para esta tarea se deben utilizar únicamente 3 clases, se puede escoger cualquiera de las 10 disponibles en el data set, por lo que hay que filtrar las clases elegidas en los arreglos:\n",
        "- train_images\n",
        "- train_labels\n",
        "- test_images\n",
        "- test_labels\n",
        "\n",
        "El objetivo de la tarea es comparar la diferencia al aplicar feature scale/normalization y las features sin ninguna transformación y comparar el efecto de el scaling/normalización sobre el entrenamiento con regresión logística.\n",
        "- Se debe crear un diccionario con el valor numérico de las labels y el texto correspondiente para poder relacionar el valor numérico con el valor descriptivo/textual.\n",
        "- Aplicar regresión logística con entropía cruzada como función de costo, crear una función que recibe de entrada un tensor x y predice la clase(utilizar el diccionario para mostrar el texto perteneciente al label).\n",
        "- Adicional a el costo(por entropía cruzada) en el grafo se debe agregar un nodo que calcule el acurracy(comparando el valor real vs el estimado por el modelo).\n",
        "- El accuracy y el costo deben ser agregados a tensorboard (agregar screenshots al notebook)\n",
        "- Se debe agregar al notebook un screenshot del grafo/grafos de tensorboard, simplificando(usando names y name_scope como visto en clase).\n",
        "- Todo lo anterior se debe hacer tanto para datos crudos, como para datos transformados con (normalización y escalado)\n",
        "- Basado en los ejemplos de visualización de imagenes en el notebook ,crear una función que reciba de entrada el tensor que representa a una imagen, grafique esta imagen poniendo como título el nombre de la prenda con mayor probabilidad.\n",
        "- Utilizar la función anterior para mostrar una muestra aleatoria de 5 imágenes(y la predicción probabilistica de la prenda)\n",
        "- Comparar con tensorboard las curvas de aprendizaje del entrenamiento con datos crudos vs datos transformados, y los 2 grafos y concluir/opinar al respecto usando markdown(agregando screenshots)\n",
        "- Utilizar mini batch gradient descent con batch size de 32"
      ]
    },
    {
      "cell_type": "markdown",
      "source": [
        "Selección de variables a predecir"
      ],
      "metadata": {
        "id": "bpajYMOFrWvo"
      }
    },
    {
      "cell_type": "code",
      "execution_count": 221,
      "metadata": {
        "id": "jxaZl13Z43Ge"
      },
      "outputs": [],
      "source": [
        "#Selecciona los que son camisas (1)\n",
        "tshirts1 = train_labels == 1\n",
        "#Selecciona los que son tacones (5)\n",
        "heals5 = train_labels == 5\n",
        "#Selecciona los que son zapatos (9)\n",
        "shoes9 = train_labels == 4\n",
        "#Or de todos los demas y nos da una lista de cuales son parte de estos 3 y cuales no \n",
        "seleccionados = tshirts1 | heals5  | shoes9\n",
        "#Obtener las imagenes de entrenamiento\n",
        "entrenamientoy = train_labels[seleccionados]\n",
        "\n",
        "#Cambio de variables 1, 5 y 4 a 0, 1, 2\n",
        "entrenamientoy[entrenamientoy == 1] = 0\n",
        "entrenamientoy[entrenamientoy == 5] = 1\n",
        "entrenamientoy[entrenamientoy == 4] = 2 \n",
        "\n",
        "#Reshape de las imagenes\n",
        "entrenamientox = np.reshape(train_images, (train_images.shape[0], 28*28))\n",
        "entrenamientox = entrenamientox[seleccionados]"
      ]
    },
    {
      "cell_type": "markdown",
      "source": [
        "Diccionario de nombres"
      ],
      "metadata": {
        "id": "QLa4Mg2zrap3"
      }
    },
    {
      "cell_type": "code",
      "source": [
        "# Diccionario de nombre de prediccion\n",
        "clases = {0 : \"T-shirt\", 1 : \"Heals\", 2 : \"Sweather\"}"
      ],
      "metadata": {
        "id": "J2jYc1IrdywS"
      },
      "execution_count": 197,
      "outputs": []
    },
    {
      "cell_type": "markdown",
      "source": [
        "Modelo de regresion logisitca Softmax"
      ],
      "metadata": {
        "id": "9qsltFSzrdiz"
      }
    },
    {
      "cell_type": "code",
      "source": [
        "def modelo_regresion_logistica(x, y, epochs, mini_batch, learningRate, imprimir_error_cada):\n",
        "    tf.reset_default_graph()\n",
        "    grafo = tf.Graph()\n",
        "    with grafo.as_default():\n",
        "      sess = tf.Session() \n",
        "      #tamaño de la data de entrenamiento\n",
        "      N, K = x.shape\n",
        "      # X\n",
        "      X = tf.placeholder(tf.float32, shape = [N, K], name = \"X\")\n",
        "      #Learning rate\n",
        "      lr = tf.placeholder(tf.float32, name = \"LearningRate\")\n",
        "      #Y \n",
        "      Y = tf.placeholder(tf.int32, name = \"Y\")\n",
        "      #variable de peso normalizado\n",
        "      peso = tf.Variable(tf.truncated_normal(shape = [K, 3]), name = \"weight\")\n",
        "        \n",
        "      with tf.name_scope(\"costo\"):\n",
        "          #Logits\n",
        "          logits = tf.matmul(X, peso, name = \"logits\") \n",
        "          #Ysombrero\n",
        "          ysombrero = tf.nn.softmax(logits, name = \"ysombrero\")\n",
        "          #calculo de costo\n",
        "          costo = tf.reduce_mean(tf.nn.sparse_softmax_cross_entropy_with_logits(labels = Y, logits = logits), name = \"costo\")\n",
        "\n",
        "      #Calculo de gradiente\n",
        "      with tf.name_scope(\"gradiente\"):\n",
        "          graddescoptimizer = tf.train.GradientDescentOptimizer(lr).minimize(costo) \n",
        "              \n",
        "      #Calculo de exactitud\n",
        "      with tf.name_scope(\"exactitud\"):\n",
        "          correctPredictions = tf.equal(Y, tf.argmax(ysombrero, 1, output_type = tf.int32), name = \"Prediccion_Correcta\")\n",
        "          exactitud = tf.reduce_mean(tf.cast(correctPredictions, tf.float32), name = \"exactitud\")\n",
        "\n",
        "      #Calculo de resumen de exactitud y costo\n",
        "      with tf.name_scope(\"resumen\"):\n",
        "        cost_summary = tf.summary.scalar(name='costo', tensor = costo)\n",
        "        exactitud_summary = tf.summary.scalar(name='exactitud', tensor = exactitud)\n",
        "        summaries = tf.summary.merge_all()\n",
        "        init = tf.global_variables_initializer()\n",
        "            \n",
        "      with tf.name_scope(\"prediccion\"):\n",
        "        sess.run(init)\n",
        "        for epoch in range(epochs):\n",
        "          _, prediction = sess.run([graddescoptimizer, summaries], feed_dict = {X : x, Y : y, lr : learningRate})\n",
        "          if ((epoch+1) % imprimir_error_cada) == 0:\n",
        "            c = sess.run(costo, feed_dict = {X : x, Y : y})\n",
        "            print(\"Epoch = %d Batch = %d Costo: %0.4f\" % (epoch+1, 32, c))\n",
        "            pesos = sess.run(peso)\n",
        "    return pesos\n",
        "\n",
        "#                                  (x, y, epochs, mini_batch, lr, imprimir_error_cada\n",
        "prueba = modelo_regresion_logistica(entrenamientox, entrenamientoy, 100, 10, 0.1, 10)\n"
      ],
      "metadata": {
        "colab": {
          "base_uri": "https://localhost:8080/"
        },
        "id": "Co9CVjZhsTbA",
        "outputId": "9e52263b-75d2-4272-9379-1f043ed52b86"
      },
      "execution_count": 217,
      "outputs": [
        {
          "output_type": "stream",
          "name": "stdout",
          "text": [
            "Epoch = 10 Batch = 32 Costo: 1611.5951\n",
            "Epoch = 20 Batch = 32 Costo: 741.4172\n",
            "Epoch = 30 Batch = 32 Costo: 340.2021\n",
            "Epoch = 40 Batch = 32 Costo: 225.3985\n",
            "Epoch = 50 Batch = 32 Costo: 183.5216\n",
            "Epoch = 60 Batch = 32 Costo: 163.1413\n",
            "Epoch = 70 Batch = 32 Costo: 149.3973\n",
            "Epoch = 80 Batch = 32 Costo: 138.4569\n",
            "Epoch = 90 Batch = 32 Costo: 129.2614\n",
            "Epoch = 100 Batch = 32 Costo: 121.0947\n"
          ]
        }
      ]
    },
    {
      "cell_type": "markdown",
      "source": [
        "Funcion de predicción"
      ],
      "metadata": {
        "id": "k7n8ch7PrQYq"
      }
    },
    {
      "cell_type": "code",
      "source": [
        "def predecir(variable, peso):\n",
        "  logits = np.matmul(variable, peso)\n",
        "  y = np.argmax(logits)\n",
        "  respuesta = clases[y]\n",
        "  return respuesta"
      ],
      "metadata": {
        "id": "AXFH_lQnTqfC"
      },
      "execution_count": 199,
      "outputs": []
    },
    {
      "cell_type": "markdown",
      "source": [
        "Variables de prueba para: \"Heals\", \"T-shirts\" y \"Sweather\""
      ],
      "metadata": {
        "id": "I5uU5hHUq1t3"
      }
    },
    {
      "cell_type": "code",
      "source": [
        "#Selecciona los que son camisas (1)\n",
        "tshirts1 = test_labels == 1\n",
        "#Selecciona los que son tacones (5)\n",
        "heals5 = test_labels == 5\n",
        "#Selecciona los que son zapatos (9)\n",
        "shoes9 = test_labels == 4\n",
        "#Or de todos los demas y nos da una lista de cuales son parte de estos 3 y cuales no \n",
        "seleccionados = tshirts1 | heals5  | shoes9\n",
        "#Obtener las imagenes de entrenamiento\n",
        "testy = test_labels[seleccionados]\n",
        "\n",
        "testy[testy == 1] = 0\n",
        "testy[testy == 5] = 1\n",
        "testy[testy == 4] = 2 \n",
        "\n",
        "testx = np.reshape(test_images, (test_images.shape[0], 28*28))\n",
        "testx = testx[seleccionados]\n",
        "\n",
        "testxN, testxK = testx.shape"
      ],
      "metadata": {
        "id": "Kk3nyiPQqWHN"
      },
      "execution_count": 200,
      "outputs": []
    },
    {
      "cell_type": "markdown",
      "source": [
        "Seleccion de pruebas aleatorias"
      ],
      "metadata": {
        "id": "zLY2Zauar0mf"
      }
    },
    {
      "cell_type": "code",
      "source": [
        "pruebas_aleatorias = np.random.randint(0, testxN, 5)\n",
        "print(pruebas_aleatorias)\n",
        "\n",
        "imagenes_prueba = testx[pruebas_aleatorias]\n",
        "print(imagenes_prueba)"
      ],
      "metadata": {
        "colab": {
          "base_uri": "https://localhost:8080/"
        },
        "id": "431fNxd_q1DR",
        "outputId": "44dce386-1452-48a0-a807-4aa0008512b2"
      },
      "execution_count": 224,
      "outputs": [
        {
          "output_type": "stream",
          "name": "stdout",
          "text": [
            "[2214 2151 1018 1866 2280]\n",
            "[[ 0  0  0 ... 60  0  0]\n",
            " [ 0  0  0 ...  0  0  0]\n",
            " [ 0  0  0 ...  0  0  0]\n",
            " [ 0  0  0 ...  0  0  0]\n",
            " [ 0  0  0 ...  0  0  0]]\n"
          ]
        }
      ]
    },
    {
      "cell_type": "markdown",
      "source": [
        "Pruebas aleatorias "
      ],
      "metadata": {
        "id": "QLI12_7mr93-"
      }
    },
    {
      "cell_type": "code",
      "source": [
        "print(\"Imangen: \"+str(pruebas_aleatorias[0]))\n",
        "plt.figure(figsize = (8,8))\n",
        "imagen = imagenes_prueba[0].reshape((28,28))\n",
        "plt.imshow(imagen, cmap = 'gray')\n",
        "plt.xlabel(predecir(imagenes_prueba[0], prueba))"
      ],
      "metadata": {
        "colab": {
          "base_uri": "https://localhost:8080/",
          "height": 532
        },
        "id": "2_80SUldr-hu",
        "outputId": "8a28c623-78d0-4c5a-de03-16d129a132e8"
      },
      "execution_count": 225,
      "outputs": [
        {
          "output_type": "stream",
          "name": "stdout",
          "text": [
            "Imangen: 2214\n"
          ]
        },
        {
          "output_type": "execute_result",
          "data": {
            "text/plain": [
              "Text(0.5, 0, 'Heals')"
            ]
          },
          "metadata": {},
          "execution_count": 225
        },
        {
          "output_type": "display_data",
          "data": {
            "text/plain": [
              "<Figure size 576x576 with 1 Axes>"
            ],
            "image/png": "[encoded data removed]"
          },
          "metadata": {
            "needs_background": "light"
          }
        }
      ]
    },
    {
      "cell_type": "code",
      "source": [
        "print(\"Imangen: \"+str(pruebas_aleatorias[1]))\n",
        "plt.figure(figsize = (8,8))\n",
        "imagen = imagenes_prueba[1].reshape((28,28))\n",
        "plt.imshow(imagen, cmap = 'gray')\n",
        "plt.xlabel(predecir(imagenes_prueba[1], prueba))"
      ],
      "metadata": {
        "colab": {
          "base_uri": "https://localhost:8080/",
          "height": 532
        },
        "id": "89E2PR72s8R-",
        "outputId": "9aead61c-83b9-4076-973e-bfad0c8e1ed5"
      },
      "execution_count": 205,
      "outputs": [
        {
          "output_type": "stream",
          "name": "stdout",
          "text": [
            "Imangen: 2362\n"
          ]
        },
        {
          "output_type": "execute_result",
          "data": {
            "text/plain": [
              "Text(0.5, 0, 'Sweather')"
            ]
          },
          "metadata": {},
          "execution_count": 205
        },
        {
          "output_type": "display_data",
          "data": {
            "text/plain": [
              "<Figure size 576x576 with 1 Axes>"
            ],
            "image/png": "[encoded data removed]"
          },
          "metadata": {
            "needs_background": "light"
          }
        }
      ]
    },
    {
      "cell_type": "code",
      "source": [
        "print(\"Imangen: \"+str(pruebas_aleatorias[3]))\n",
        "plt.figure(figsize = (8,8))\n",
        "imagen = imagenes_prueba[3].reshape((28,28))\n",
        "plt.imshow(imagen, cmap = 'gray')\n",
        "plt.xlabel(predecir(imagenes_prueba[3], prueba))"
      ],
      "metadata": {
        "colab": {
          "base_uri": "https://localhost:8080/",
          "height": 532
        },
        "id": "WXWxbhoMs_cs",
        "outputId": "e07372bc-07d6-41ce-9449-d899ba5523a3"
      },
      "execution_count": 206,
      "outputs": [
        {
          "output_type": "stream",
          "name": "stdout",
          "text": [
            "Imangen: 1207\n"
          ]
        },
        {
          "output_type": "execute_result",
          "data": {
            "text/plain": [
              "Text(0.5, 0, 'Heals')"
            ]
          },
          "metadata": {},
          "execution_count": 206
        },
        {
          "output_type": "display_data",
          "data": {
            "text/plain": [
              "<Figure size 576x576 with 1 Axes>"
            ],
            "image/png": "[encoded data removed]"
          },
          "metadata": {
            "needs_background": "light"
          }
        }
      ]
    },
    {
      "cell_type": "code",
      "source": [
        "print(\"Imangen: \"+str(pruebas_aleatorias[4]))\n",
        "plt.figure(figsize = (8,8))\n",
        "imagen = imagenes_prueba[4].reshape((28,28))\n",
        "plt.imshow(imagen, cmap = 'gray')\n",
        "plt.xlabel(predecir(imagenes_prueba[4], prueba))"
      ],
      "metadata": {
        "colab": {
          "base_uri": "https://localhost:8080/",
          "height": 532
        },
        "id": "0g8OK6KbthkO",
        "outputId": "578db79c-5040-4cc9-ab3a-c3bdc8459bfb"
      },
      "execution_count": 210,
      "outputs": [
        {
          "output_type": "stream",
          "name": "stdout",
          "text": [
            "Imangen: 1847\n"
          ]
        },
        {
          "output_type": "execute_result",
          "data": {
            "text/plain": [
              "Text(0.5, 0, 'Sweather')"
            ]
          },
          "metadata": {},
          "execution_count": 210
        },
        {
          "output_type": "display_data",
          "data": {
            "text/plain": [
              "<Figure size 576x576 with 1 Axes>"
            ],
            "image/png": "[encoded data removed]"
          },
          "metadata": {
            "needs_background": "light"
          }
        }
      ]
    },
    {
      "cell_type": "code",
      "source": [
        "print(\"Imangen: \"+str(pruebas_aleatorias[4]))\n",
        "plt.figure(figsize = (8,8))\n",
        "imagen = imagenes_prueba[4].reshape((28,28))\n",
        "plt.imshow(imagen, cmap = 'gray')\n",
        "plt.xlabel(predecir(imagenes_prueba[4], prueba))"
      ],
      "metadata": {
        "colab": {
          "base_uri": "https://localhost:8080/",
          "height": 532
        },
        "id": "O_n4k1kkttl_",
        "outputId": "6b572ebb-f14f-4d6f-c9d4-f3c4676c1695"
      },
      "execution_count": 226,
      "outputs": [
        {
          "output_type": "stream",
          "name": "stdout",
          "text": [
            "Imangen: 2280\n"
          ]
        },
        {
          "output_type": "execute_result",
          "data": {
            "text/plain": [
              "Text(0.5, 0, 'Heals')"
            ]
          },
          "metadata": {},
          "execution_count": 226
        },
        {
          "output_type": "display_data",
          "data": {
            "text/plain": [
              "<Figure size 576x576 with 1 Axes>"
            ],
            "image/png": "[encoded data removed]"
          },
          "metadata": {
            "needs_background": "light"
          }
        }
      ]
    },
    {
      "cell_type": "code",
      "source": [
        ""
      ],
      "metadata": {
        "id": "HCrA5wWYwUBy"
      },
      "execution_count": 223,
      "outputs": []
    }
  ],
  "metadata": {
    "kernelspec": {
      "display_name": "Python 3",
      "language": "python",
      "name": "python3"
    },
    "language_info": {
      "codemirror_mode": {
        "name": "ipython",
        "version": 3
      },
      "file_extension": ".py",
      "mimetype": "text/x-python",
      "name": "python",
      "nbconvert_exporter": "python",
      "pygments_lexer": "ipython3",
      "version": "3.7.2"
    },
    "colab": {
      "name": "Tarea4Fashion_mnist.ipynb",
      "provenance": [],
      "collapsed_sections": [],
      "include_colab_link": true
    }
  },
  "nbformat": 4,
  "nbformat_minor": 0
}