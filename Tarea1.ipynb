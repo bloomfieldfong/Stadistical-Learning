{
  "nbformat": 4,
  "nbformat_minor": 0,
  "metadata": {
    "colab": {
      "name": "Tarea1.ipynb",
      "provenance": [],
      "collapsed_sections": [],
      "authorship_tag": "ABX9TyNApB27yzFO2B20wPSOJnPG",
      "include_colab_link": true
    },
    "kernelspec": {
      "name": "python3",
      "display_name": "Python 3"
    },
    "language_info": {
      "name": "python"
    }
  },
  "cells": [
    {
      "cell_type": "markdown",
      "metadata": {
        "id": "view-in-github",
        "colab_type": "text"
      },
      "source": [
        "<a href=\"https://colab.research.google.com/github/bloomfieldfong/Stadistical-Learning/blob/main/Tarea1.ipynb\" target=\"_parent\"><img src=\"https://colab.research.google.com/assets/colab-badge.svg\" alt=\"Open In Colab\"/></a>"
      ]
    },
    {
      "cell_type": "markdown",
      "source": [
        "## **Tarea I - Gradient Descent con Tensorflow**"
      ],
      "metadata": {
        "id": "bHPIp_rGwkX2"
      }
    },
    {
      "cell_type": "code",
      "execution_count": 1,
      "metadata": {
        "id": "LRkIp-UsMsq6",
        "colab": {
          "base_uri": "https://localhost:8080/"
        },
        "outputId": "e6b1ccf8-aa77-46df-a6a3-f82a47cbf83e"
      },
      "outputs": [
        {
          "output_type": "stream",
          "name": "stdout",
          "text": [
            "2.8.2\n"
          ]
        }
      ],
      "source": [
        "import numpy as np\n",
        "import pandas as pd\n",
        "import matplotlib.pyplot as plt\n",
        "import seaborn as sns\n",
        "import tensorflow as tf\n",
        "print(tf.__version__)"
      ]
    },
    {
      "cell_type": "code",
      "source": [
        "file = \"proyecto_training_data.npy\"\n",
        "raw_data = np.load(file)\n",
        "header = [\"SalePrice\",\"OverallQual\",\"1stFlrSF\",\"TotRmsAbvGrd\",\"YearBuilt\",\"LotFrontage\"]\n",
        "data = pd.DataFrame(raw_data,columns=header)"
      ],
      "metadata": {
        "id": "y0tbPiCnNfVC"
      },
      "execution_count": 3,
      "outputs": []
    },
    {
      "cell_type": "markdown",
      "source": [
        "Se establecio un correlativo para cada una de las columnas de nuestro data frame y se tomaron las variables con mayor correlacion (0.79): \n",
        "\n",
        "1. SalePrice\n",
        "2. OverallQual"
      ],
      "metadata": {
        "id": "H0yMagBFv_5Q"
      }
    },
    {
      "cell_type": "code",
      "source": [
        "correlation_table = data.corr(method='pearson')\n",
        "plt.figure(figsize=(8, 6))\n",
        "sns.heatmap(correlation_table, annot=True)\n",
        "plt.show()"
      ],
      "metadata": {
        "colab": {
          "base_uri": "https://localhost:8080/",
          "height": 378
        },
        "id": "-QETFrZ7Nkx4",
        "outputId": "ddf63e22-b69a-4d9a-886d-22b07bc878f5"
      },
      "execution_count": 4,
      "outputs": [
        {
          "output_type": "display_data",
          "data": {
            "text/plain": [
              "<Figure size 576x432 with 2 Axes>"
            ],
            "image/png": "[encoded data removed]"
          },
          "metadata": {
            "needs_background": "light"
          }
        }
      ]
    },
    {
      "cell_type": "markdown",
      "source": [
        "Las variables con mayor correlacion son: SalePrice y OverallQuality\n"
      ],
      "metadata": {
        "id": "gv1hTFFaOnTd"
      }
    },
    {
      "cell_type": "code",
      "source": [
        "salePrice = raw_data[:,1]\n",
        "overallQuality = raw_data[:,0]"
      ],
      "metadata": {
        "id": "N0zNgzGCRAfO"
      },
      "execution_count": 5,
      "outputs": []
    },
    {
      "cell_type": "markdown",
      "source": [
        "## **Hipotesis**\n",
        "\n"
      ],
      "metadata": {
        "id": "M7-GWZ74wUF1"
      }
    },
    {
      "cell_type": "markdown",
      "source": [
        "\n",
        "Se identifico una relación entre las variables *SalePrice* y *OverallQuality*, se estara definiendo una relacion lineal donde la variable de predicción **y** sera el precio de venta de una casa y su variable **x** la calidad de la misma y sus pesos seran la pendiente de la recta y su intercepto. Para el calculo de este modelo se estara utilizando Tensorflow.\n"
      ],
      "metadata": {
        "id": "8_OsUp6vwjZM"
      }
    },
    {
      "cell_type": "code",
      "source": [
        "def modelo(x,y, epochs, imprimir_error_cada, lr):\n",
        "  #MB = [[0.0], [0.0]] variables m y b \n",
        "  mb = tf.Variable(name=\"mb\", initial_value=tf.zeros((2,1),tf.float64))\n",
        "  #Reshape el valor de y \n",
        "  y = y.reshape(len(y), 1)\n",
        "  #Reshape el valor x a una lista  con 1s [y,1] para operaciones matriciales\n",
        "  x = x.reshape(len(x), 1)\n",
        "  x = tf.concat([x, tf.ones_like(x)], axis=1)\n",
        "  errores = []\n",
        "  mbs = []\n",
        "  #Recorre en cantidad de epochs\n",
        "  for i in range(epochs):\n",
        "    with tf.GradientTape() as grad_tape:\n",
        "      #Multiplicacion matricial para crear la prediccion de y \n",
        "      y_pred = tf.matmul(x,mb)\n",
        "      #Calculo del error\n",
        "      error = 1/2 * tf.reduce_mean(tf.math.square(y - y_pred))\n",
        "    #Calculo de la gradiente\n",
        "    grad_mb = grad_tape.gradient(error, mb)\n",
        "    #Re-asignar la nueva m y b \n",
        "    mb.assign(mb-lr*grad_mb[0])\n",
        "    #Errores\n",
        "    errores.append(error.numpy())\n",
        "    mbs.append(mb.numpy())\n",
        "    \n",
        "    if ((i+1) % imprimir_error_cada) == 0:\n",
        "      print(\"Error Iteracion: \"+ str(i+1)+\" \"+str(errores[i]))\n",
        "      print(\"    modelo:y={}x+{}\".format(mbs[i][0],mbs[i][1]))"
      ],
      "metadata": {
        "id": "GdIOowQ4ybRj"
      },
      "execution_count": 23,
      "outputs": []
    },
    {
      "cell_type": "markdown",
      "source": [
        "## Modelo 1: \n",
        "\n",
        "\n",
        "\n",
        "*   Epochs: 300\n",
        "*   Lr: 0.001\n",
        "\n",
        "Imprime el error y la recta cada: 10"
      ],
      "metadata": {
        "id": "iVTDqKcXfMN1"
      }
    },
    {
      "cell_type": "code",
      "source": [
        "modelo(salePrice, overallQuality, 300, 30, 0.001)"
      ],
      "metadata": {
        "colab": {
          "base_uri": "https://localhost:8080/"
        },
        "id": "S14mz4U2sQJB",
        "outputId": "fd408074-3451-4413-b168-3f815d25bf32"
      },
      "execution_count": 24,
      "outputs": [
        {
          "output_type": "stream",
          "name": "stdout",
          "text": [
            "Error Iteracion: 30 2744894168.0623426\n",
            "    modelo:y=[19756.97456458]x+[19756.97456458]\n",
            "Error Iteracion: 60 1614208046.067211\n",
            "    modelo:y=[24687.85550215]x+[24687.85550215]\n",
            "Error Iteracion: 90 1549570978.031656\n",
            "    modelo:y=[25918.4886004]x+[25918.4886004]\n",
            "Error Iteracion: 120 1546990307.8244054\n",
            "    modelo:y=[26225.62597436]x+[26225.62597436]\n",
            "Error Iteracion: 150 1547190319.401112\n",
            "    modelo:y=[26302.28031319]x+[26302.28031319]\n",
            "Error Iteracion: 180 1547292814.5681276\n",
            "    modelo:y=[26321.41145176]x+[26321.41145176]\n",
            "Error Iteracion: 210 1547321669.9162924\n",
            "    modelo:y=[26326.18613861]x+[26326.18613861]\n",
            "Error Iteracion: 240 1547329075.5307403\n",
            "    modelo:y=[26327.37778929]x+[26327.37778929]\n",
            "Error Iteracion: 270 1547330936.506032\n",
            "    modelo:y=[26327.67519756]x+[26327.67519756]\n",
            "Error Iteracion: 300 1547331401.7536025\n",
            "    modelo:y=[26327.74942375]x+[26327.74942375]\n"
          ]
        }
      ]
    },
    {
      "cell_type": "markdown",
      "source": [
        "## Modelo 2: \n",
        "\n",
        "\n",
        "\n",
        "*   Epochs: 1000\n",
        "*   Lr: 0.005\n",
        "\n",
        "Imprime el error y la recta cada: 100"
      ],
      "metadata": {
        "id": "ro269r9Pg6Ay"
      }
    },
    {
      "cell_type": "code",
      "source": [
        "modelo(salePrice, overallQuality, 1000, 100, 0.005)"
      ],
      "metadata": {
        "colab": {
          "base_uri": "https://localhost:8080/"
        },
        "id": "9bDkIfdm5hZy",
        "outputId": "2875a0b3-bbb2-42d9-edce-eef7bf1aa793"
      },
      "execution_count": 28,
      "outputs": [
        {
          "output_type": "stream",
          "name": "stdout",
          "text": [
            "Error Iteracion: 100 1547331556.5547729\n",
            "    modelo:y=[26327.77410979]x+[26327.77410979]\n",
            "Error Iteracion: 200 1547331556.5562847\n",
            "    modelo:y=[26327.77410998]x+[26327.77410998]\n",
            "Error Iteracion: 300 1547331556.5562847\n",
            "    modelo:y=[26327.77410998]x+[26327.77410998]\n",
            "Error Iteracion: 400 1547331556.5562847\n",
            "    modelo:y=[26327.77410998]x+[26327.77410998]\n",
            "Error Iteracion: 500 1547331556.5562847\n",
            "    modelo:y=[26327.77410998]x+[26327.77410998]\n",
            "Error Iteracion: 600 1547331556.5562847\n",
            "    modelo:y=[26327.77410998]x+[26327.77410998]\n",
            "Error Iteracion: 700 1547331556.5562847\n",
            "    modelo:y=[26327.77410998]x+[26327.77410998]\n",
            "Error Iteracion: 800 1547331556.5562847\n",
            "    modelo:y=[26327.77410998]x+[26327.77410998]\n",
            "Error Iteracion: 900 1547331556.5562847\n",
            "    modelo:y=[26327.77410998]x+[26327.77410998]\n",
            "Error Iteracion: 1000 1547331556.5562847\n",
            "    modelo:y=[26327.77410998]x+[26327.77410998]\n"
          ]
        }
      ]
    },
    {
      "cell_type": "markdown",
      "source": [
        "## Modelo 3: \n",
        "\n",
        "\n",
        "\n",
        "*   Epochs: 10000\n",
        "*   Lr: 0.001\n",
        "\n",
        "Imprime el error y la recta cada: 1000"
      ],
      "metadata": {
        "id": "nRcpk0L_g5V0"
      }
    },
    {
      "cell_type": "code",
      "source": [
        "modelo(salePrice, overallQuality, 10000, 1000, 0.001  )"
      ],
      "metadata": {
        "colab": {
          "base_uri": "https://localhost:8080/"
        },
        "id": "3RWbUDk5hxng",
        "outputId": "bf323c3d-864b-4d0a-f324-5f27849c1936"
      },
      "execution_count": 29,
      "outputs": [
        {
          "output_type": "stream",
          "name": "stdout",
          "text": [
            "Error Iteracion: 1000 1547331556.5562847\n",
            "    modelo:y=[26327.77410998]x+[26327.77410998]\n",
            "Error Iteracion: 2000 1547331556.5562847\n",
            "    modelo:y=[26327.77410998]x+[26327.77410998]\n",
            "Error Iteracion: 3000 1547331556.5562847\n",
            "    modelo:y=[26327.77410998]x+[26327.77410998]\n",
            "Error Iteracion: 4000 1547331556.5562847\n",
            "    modelo:y=[26327.77410998]x+[26327.77410998]\n",
            "Error Iteracion: 5000 1547331556.5562847\n",
            "    modelo:y=[26327.77410998]x+[26327.77410998]\n",
            "Error Iteracion: 6000 1547331556.5562847\n",
            "    modelo:y=[26327.77410998]x+[26327.77410998]\n",
            "Error Iteracion: 7000 1547331556.5562847\n",
            "    modelo:y=[26327.77410998]x+[26327.77410998]\n",
            "Error Iteracion: 8000 1547331556.5562847\n",
            "    modelo:y=[26327.77410998]x+[26327.77410998]\n",
            "Error Iteracion: 9000 1547331556.5562847\n",
            "    modelo:y=[26327.77410998]x+[26327.77410998]\n",
            "Error Iteracion: 10000 1547331556.5562847\n",
            "    modelo:y=[26327.77410998]x+[26327.77410998]\n"
          ]
        }
      ]
    },
    {
      "cell_type": "markdown",
      "source": [
        "## Modelo 4: \n",
        "\n",
        "\n",
        "\n",
        "*   Epochs: 1000\n",
        "*   Lr: 0.1\n",
        "\n",
        "Imprime el error y la recta cada: 100"
      ],
      "metadata": {
        "id": "lT8rKJzHh6_n"
      }
    },
    {
      "cell_type": "code",
      "source": [
        "modelo(salePrice, overallQuality, 1000, 100, 0.1)"
      ],
      "metadata": {
        "colab": {
          "base_uri": "https://localhost:8080/"
        },
        "id": "jDUijkI-h5wh",
        "outputId": "50d9af6b-2c36-4f83-f90f-8e58beb3bbb9"
      },
      "execution_count": 31,
      "outputs": [
        {
          "output_type": "stream",
          "name": "stdout",
          "text": [
            "Error Iteracion: 100 3.1912202441338077e+118\n",
            "    modelo:y=[-1.22995423e+59]x+[-1.22995423e+59]\n",
            "Error Iteracion: 200 6.964763837345768e+227\n",
            "    modelo:y=[-5.74597536e+113]x+[-5.74597536e+113]\n",
            "Error Iteracion: 300 inf\n",
            "    modelo:y=[-2.68434646e+168]x+[-2.68434646e+168]\n",
            "Error Iteracion: 400 inf\n",
            "    modelo:y=[-1.25404574e+223]x+[-1.25404574e+223]\n",
            "Error Iteracion: 500 inf\n",
            "    modelo:y=[-5.85852361e+277]x+[-5.85852361e+277]\n",
            "Error Iteracion: 600 nan\n",
            "    modelo:y=[nan]x+[nan]\n",
            "Error Iteracion: 700 nan\n",
            "    modelo:y=[nan]x+[nan]\n",
            "Error Iteracion: 800 nan\n",
            "    modelo:y=[nan]x+[nan]\n",
            "Error Iteracion: 900 nan\n",
            "    modelo:y=[nan]x+[nan]\n",
            "Error Iteracion: 1000 nan\n",
            "    modelo:y=[nan]x+[nan]\n"
          ]
        }
      ]
    },
    {
      "cell_type": "markdown",
      "source": [
        "## Conclusiones\n",
        "\n",
        "\n",
        "\n",
        "*   Como podemos observar en el modelo 4, al tener un learning rate bajo (0.1) tendemos a irnos con un error bastante grande y los pesos de x y y tornan a negativo.\n",
        "*   El mejor modelo es el modelo 1 ya que el error se reduce y se estabiliza. Ademas que las predicciones se asemejan a sus valores reales concluyendo que esta es una buena funcion.\n",
        "\n",
        "Intente utilizar tensorboard pero tuve que regresar un par de versiones de mi notebook por que todo dejo de funcionar :( seguire investigando como utilizar la herramienta\n",
        "\n"
      ],
      "metadata": {
        "id": "z23WFf-viIsD"
      }
    }
  ]
}